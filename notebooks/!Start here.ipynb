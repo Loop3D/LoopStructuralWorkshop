{
 "cells": [
  {
   "cell_type": "markdown",
   "metadata": {},
   "source": [
    "<img src=\"images/banner.png\" alt=\"Folded outcrop\" />"
   ]
  },
  {
   "cell_type": "markdown",
   "metadata": {},
   "source": [
    "# LoopStructural: RING meeting training\n",
    "During this workshop you will use jupyter notebooks to build implicit geological models using LoopStructural, with examples  \n",
    "* The [first tutorial](Example1.ipynb) will cover interpolating a conformable stratigraphic horizon using LoopStructural in this tutorial you will learn how to:\n",
    "<img src=\"images/example1.jpg\" alt=\"Noddy Model\" style=\"width: 400px;\"/>\n",
    "    \n",
    "    * Create a geological model, which includes:\n",
    "        1. Presentation and visualization of the data\n",
    "        2. Addition of a geological feature, which in this case is the stratigraphy of the model.\n",
    "        2. Visualization of the scalar field.\n",
    "\n",
    "* The [second example](Example2.ipynb) introduces using structural frame (fold frame) for modelling folded surfaces and provides a comparison to using classical methods.\n",
    "<img src=\"images/example2.jpg\" alt=\"Noddy Model\" style=\"width: 400px;\"/>\n",
    "\n",
    "    * Test senstivity of classical methods to data density\n",
    "    * Use fold constraints to better constrain model\n",
    "    * Test sensitivity of fold constraints to fold axis\n",
    "    \n",
    "* The [third example](Example3.ipynb) uses the fold frame to model a type 3 interference pattern using a time aware approach for modelling each foliation field from structural data.\n",
    "<img src=\"images/refolded_folds.jpg\" alt=\"Noddy Model\" style=\"width: 400px;\"/>\n",
    "\n",
    "    * Comparison of fold constraints with clasical methods for polyfolded structure\n",
    "    * Use advanced LoopStructural API for building fold frame and fold constraints for polyfolded structure\n",
    "* The [fourth example](Example4.ipynb) a uses structural frames for modelling faults showing a simple example of a faulted intrusion.\n",
    "<img src=\"images/example4.jpg\" alt=\"Noddy Model\" style=\"width: 400px;\"/>\n",
    "    \n",
    "    * Build fault frame from structural observations\n",
    "    * Add fault to interpolated stratigraphic horizon\n",
    "    * Test varying fault displacements \n",
    "    \n",
    "* The [fifth example](Example5.ipynb) we use map2loop, the data preprocessing tool from Loop to generte an input dataset from regional geological maps in the Hamersley region in Western Australia\n",
    "<img src=\"images/map2loop.png\" alt=\"Map2loop example\" style=\"width: 1000px;\"/>\n",
    "   \n",
    "    * Build fault network with varying displacements\n",
    "    * Use map2loop output files\n",
    "    * Building complex 3D model"
   ]
  },
  {
   "cell_type": "markdown",
   "metadata": {},
   "source": [
    "## Using LoopStructural\n",
    "LoopStructural is available on [github](https://github.com/Loop3D/LoopStructural) and can be installed on windows, linux and osx using `pip install LoopStructural`\n",
    "\n",
    "**Sign up to our mailing list [here](https://docs.google.com/forms/d/e/1FAIpQLSdgcIlQAHu6zMPEZADsbh4gMwENGwiDgswa7ZQi0ei8rFcUmQ/viewform)** to recieve updates about the project and any public releases.\n",
    "\n",
    "Follow us on github https://github.com/Loop3D"
   ]
  },
  {
   "cell_type": "markdown",
   "metadata": {},
   "source": [
    "<img src=\"images/loop-struct-foot.png\" alt=\"Folded outcrop\" />"
   ]
  }
 ],
 "metadata": {
  "kernelspec": {
   "display_name": "Python 3",
   "language": "python",
   "name": "python3"
  },
  "language_info": {
   "codemirror_mode": {
    "name": "ipython",
    "version": 3
   },
   "file_extension": ".py",
   "mimetype": "text/x-python",
   "name": "python",
   "nbconvert_exporter": "python",
   "pygments_lexer": "ipython3",
   "version": "3.8.5"
  }
 },
 "nbformat": 4,
 "nbformat_minor": 2
}
