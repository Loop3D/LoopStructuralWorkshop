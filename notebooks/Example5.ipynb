{
 "cells": [
  {
   "cell_type": "markdown",
   "metadata": {},
   "source": [
    "<img src=\"images/banner.png\" alt=\"Folded outcrop\" />"
   ]
  },
  {
   "cell_type": "markdown",
   "metadata": {},
   "source": [
    "# Duplex example\n",
    "## Imports"
   ]
  },
  {
   "cell_type": "code",
   "execution_count": 1,
   "metadata": {
    "ExecuteTime": {
     "end_time": "2019-11-14T04:24:55.327020Z",
     "start_time": "2019-11-14T04:24:54.533386Z"
    }
   },
   "outputs": [],
   "source": [
    "import numpy as np\n",
    "import pandas as pd\n",
    "import matplotlib.pyplot as plt\n",
    "from LoopStructural import GeologicalModel\n",
    "from LoopStructural.visualisation.model_visualisation import LavaVuModelViewer\n",
    "from LoopStructural.datasets import load_duplex\n",
    "import matplotlib.pyplot as plt\n",
    "%matplotlib inline"
   ]
  },
  {
   "cell_type": "markdown",
   "metadata": {},
   "source": [
    "## Define model bounding box"
   ]
  },
  {
   "cell_type": "code",
   "execution_count": 2,
   "metadata": {
    "ExecuteTime": {
     "end_time": "2019-11-14T04:25:21.222929Z",
     "start_time": "2019-11-14T04:25:21.214019Z"
    }
   },
   "outputs": [],
   "source": [
    "data, boundary_points = load_duplex()#np.zeros((2,3))\n"
   ]
  },
  {
   "cell_type": "code",
   "execution_count": 3,
   "metadata": {},
   "outputs": [],
   "source": [
    "splay_region = lambda pos : np.logical_or(pos[:,0] < (-6.5-model.origin[0])/model.scale_factor, pos[:,0] \n",
    "                                          > (5-model.origin[0])/model.scale_factor)"
   ]
  },
  {
   "cell_type": "code",
   "execution_count": 4,
   "metadata": {},
   "outputs": [],
   "source": [
    "model = GeologicalModel(boundary_points[0,:],boundary_points[1,:])\n",
    "model.set_model_data(data)"
   ]
  },
  {
   "cell_type": "code",
   "execution_count": 5,
   "metadata": {},
   "outputs": [
    {
     "ename": "IndexError",
     "evalue": "boolean index did not match indexed array along dimension 0; dimension is 6688 but corresponding boolean dimension is 7296",
     "output_type": "error",
     "traceback": [
      "\u001b[1;31m---------------------------------------------------------------------------\u001b[0m",
      "\u001b[1;31mIndexError\u001b[0m                                Traceback (most recent call last)",
      "\u001b[1;32m<ipython-input-5-e79938bbb985>\u001b[0m in \u001b[0;36m<module>\u001b[1;34m\u001b[0m\n\u001b[0;32m     35\u001b[0m                                     \u001b[0msteps\u001b[0m\u001b[1;33m=\u001b[0m\u001b[1;36m10\u001b[0m\u001b[1;33m,\u001b[0m\u001b[1;33m\u001b[0m\u001b[1;33m\u001b[0m\u001b[0m\n\u001b[0;32m     36\u001b[0m                                     \u001b[0mcpw\u001b[0m\u001b[1;33m=\u001b[0m\u001b[1;36m10\u001b[0m\u001b[1;33m,\u001b[0m\u001b[1;33m\u001b[0m\u001b[1;33m\u001b[0m\u001b[0m\n\u001b[1;32m---> 37\u001b[1;33m                                     \u001b[0moverprinted\u001b[0m\u001b[1;33m=\u001b[0m\u001b[1;33m[\u001b[0m\u001b[1;34m'fault2'\u001b[0m\u001b[1;33m]\u001b[0m\u001b[1;33m,\u001b[0m\u001b[1;33m\u001b[0m\u001b[1;33m\u001b[0m\u001b[0m\n\u001b[0m\u001b[0;32m     38\u001b[0m                                    )\n\u001b[0;32m     39\u001b[0m strati = model.create_and_add_foliation('strati',\n",
      "\u001b[1;32mc:\\users\\lgrose\\.conda\\envs\\loop\\lib\\site-packages\\LoopStructural\\modelling\\core\\geological_model.py\u001b[0m in \u001b[0;36mcreate_and_add_fault\u001b[1;34m(self, fault_surface_data, displacement, **kwargs)\u001b[0m\n\u001b[0;32m    654\u001b[0m                 val = kwargs['splay'][i].evaluate_value(\n\u001b[0;32m    655\u001b[0m                     interpolator.support.nodes[\n\u001b[1;32m--> 656\u001b[1;33m                     kwargs['splayregion'](interpolator.support.nodes), :])\n\u001b[0m\u001b[0;32m    657\u001b[0m                 \u001b[0mmask\u001b[0m \u001b[1;33m=\u001b[0m \u001b[1;33m~\u001b[0m\u001b[0mnp\u001b[0m\u001b[1;33m.\u001b[0m\u001b[0misnan\u001b[0m\u001b[1;33m(\u001b[0m\u001b[0mval\u001b[0m\u001b[1;33m)\u001b[0m\u001b[1;33m\u001b[0m\u001b[1;33m\u001b[0m\u001b[0m\n\u001b[0;32m    658\u001b[0m                 fault_frame_builder[i].interpolator.add_equality_constraints(\n",
      "\u001b[1;32mc:\\users\\lgrose\\.conda\\envs\\loop\\lib\\site-packages\\LoopStructural\\modelling\\features\\geological_feature.py\u001b[0m in \u001b[0;36mevaluate_value\u001b[1;34m(self, evaluation_points)\u001b[0m\n\u001b[0;32m    106\u001b[0m             \u001b[1;32mfor\u001b[0m \u001b[0mf\u001b[0m \u001b[1;32min\u001b[0m \u001b[0mself\u001b[0m\u001b[1;33m.\u001b[0m\u001b[0mfaults\u001b[0m\u001b[1;33m:\u001b[0m\u001b[1;33m\u001b[0m\u001b[1;33m\u001b[0m\u001b[0m\n\u001b[0;32m    107\u001b[0m                 \u001b[0mevaluation_points\u001b[0m \u001b[1;33m=\u001b[0m \u001b[0mf\u001b[0m\u001b[1;33m.\u001b[0m\u001b[0mapply_to_points\u001b[0m\u001b[1;33m(\u001b[0m\u001b[0mevaluation_points\u001b[0m\u001b[1;33m)\u001b[0m\u001b[1;33m\u001b[0m\u001b[1;33m\u001b[0m\u001b[0m\n\u001b[1;32m--> 108\u001b[1;33m         \u001b[0mv\u001b[0m\u001b[1;33m[\u001b[0m\u001b[0mmask\u001b[0m\u001b[1;33m]\u001b[0m \u001b[1;33m=\u001b[0m \u001b[0mself\u001b[0m\u001b[1;33m.\u001b[0m\u001b[0msupport\u001b[0m\u001b[1;33m.\u001b[0m\u001b[0mevaluate_value\u001b[0m\u001b[1;33m(\u001b[0m\u001b[0mevaluation_points\u001b[0m\u001b[1;33m[\u001b[0m\u001b[0mmask\u001b[0m\u001b[1;33m,\u001b[0m \u001b[1;33m:\u001b[0m\u001b[1;33m]\u001b[0m\u001b[1;33m)\u001b[0m\u001b[1;33m\u001b[0m\u001b[1;33m\u001b[0m\u001b[0m\n\u001b[0m\u001b[0;32m    109\u001b[0m         \u001b[1;32mreturn\u001b[0m \u001b[0mv\u001b[0m\u001b[1;33m\u001b[0m\u001b[1;33m\u001b[0m\u001b[0m\n\u001b[0;32m    110\u001b[0m \u001b[1;33m\u001b[0m\u001b[0m\n",
      "\u001b[1;32mc:\\users\\lgrose\\.conda\\envs\\loop\\lib\\site-packages\\LoopStructural\\supports\\scalar_field.py\u001b[0m in \u001b[0;36mevaluate_value\u001b[1;34m(self, evaluation_points)\u001b[0m\n\u001b[0;32m     86\u001b[0m         \u001b[1;32mif\u001b[0m \u001b[0mevaluation_points\u001b[0m\u001b[1;33m[\u001b[0m\u001b[1;33m~\u001b[0m\u001b[0mmask\u001b[0m\u001b[1;33m,\u001b[0m \u001b[1;33m:\u001b[0m\u001b[1;33m]\u001b[0m\u001b[1;33m.\u001b[0m\u001b[0mshape\u001b[0m\u001b[1;33m[\u001b[0m\u001b[1;36m0\u001b[0m\u001b[1;33m]\u001b[0m \u001b[1;33m>\u001b[0m \u001b[1;36m0\u001b[0m\u001b[1;33m:\u001b[0m\u001b[1;33m\u001b[0m\u001b[1;33m\u001b[0m\u001b[0m\n\u001b[0;32m     87\u001b[0m             evaluated[~mask] = self.support.evaluate_value(\n\u001b[1;32m---> 88\u001b[1;33m                 evaluation_points[~mask], self.property_name)\n\u001b[0m\u001b[0;32m     89\u001b[0m         \u001b[1;32mreturn\u001b[0m \u001b[0mevaluated\u001b[0m\u001b[1;33m\u001b[0m\u001b[1;33m\u001b[0m\u001b[0m\n\u001b[0;32m     90\u001b[0m \u001b[1;33m\u001b[0m\u001b[0m\n",
      "\u001b[1;32mc:\\users\\lgrose\\.conda\\envs\\loop\\lib\\site-packages\\LoopStructural\\supports\\structured_tetra.py\u001b[0m in \u001b[0;36mevaluate_value\u001b[1;34m(self, pos, prop)\u001b[0m\n\u001b[0;32m     86\u001b[0m         \u001b[0mvalues\u001b[0m \u001b[1;33m=\u001b[0m \u001b[0mnp\u001b[0m\u001b[1;33m.\u001b[0m\u001b[0mzeros\u001b[0m\u001b[1;33m(\u001b[0m\u001b[0mpos\u001b[0m\u001b[1;33m.\u001b[0m\u001b[0mshape\u001b[0m\u001b[1;33m[\u001b[0m\u001b[1;36m0\u001b[0m\u001b[1;33m]\u001b[0m\u001b[1;33m)\u001b[0m\u001b[1;33m\u001b[0m\u001b[1;33m\u001b[0m\u001b[0m\n\u001b[0;32m     87\u001b[0m         \u001b[0mvalues\u001b[0m\u001b[1;33m[\u001b[0m\u001b[1;33m:\u001b[0m\u001b[1;33m]\u001b[0m \u001b[1;33m=\u001b[0m \u001b[0mnp\u001b[0m\u001b[1;33m.\u001b[0m\u001b[0mnan\u001b[0m\u001b[1;33m\u001b[0m\u001b[1;33m\u001b[0m\u001b[0m\n\u001b[1;32m---> 88\u001b[1;33m         \u001b[0mvertices\u001b[0m\u001b[1;33m,\u001b[0m \u001b[0mc\u001b[0m\u001b[1;33m,\u001b[0m \u001b[0mtetras\u001b[0m\u001b[1;33m,\u001b[0m \u001b[0minside\u001b[0m \u001b[1;33m=\u001b[0m \u001b[0mself\u001b[0m\u001b[1;33m.\u001b[0m\u001b[0mget_tetra_for_location\u001b[0m\u001b[1;33m(\u001b[0m\u001b[0mpos\u001b[0m\u001b[1;33m)\u001b[0m\u001b[1;33m\u001b[0m\u001b[1;33m\u001b[0m\u001b[0m\n\u001b[0m\u001b[0;32m     89\u001b[0m         \u001b[0mvalues\u001b[0m\u001b[1;33m[\u001b[0m\u001b[0minside\u001b[0m\u001b[1;33m]\u001b[0m \u001b[1;33m=\u001b[0m \u001b[0mnp\u001b[0m\u001b[1;33m.\u001b[0m\u001b[0msum\u001b[0m\u001b[1;33m(\u001b[0m\u001b[0mc\u001b[0m\u001b[1;33m[\u001b[0m\u001b[0minside\u001b[0m\u001b[1;33m,\u001b[0m\u001b[1;33m:\u001b[0m\u001b[1;33m]\u001b[0m\u001b[1;33m*\u001b[0m\u001b[0mself\u001b[0m\u001b[1;33m.\u001b[0m\u001b[0mproperties\u001b[0m\u001b[1;33m[\u001b[0m\u001b[0mprop\u001b[0m\u001b[1;33m]\u001b[0m\u001b[1;33m[\u001b[0m\u001b[0mtetras\u001b[0m\u001b[1;33m[\u001b[0m\u001b[0minside\u001b[0m\u001b[1;33m,\u001b[0m\u001b[1;33m:\u001b[0m\u001b[1;33m]\u001b[0m\u001b[1;33m]\u001b[0m\u001b[1;33m,\u001b[0m\u001b[0maxis\u001b[0m\u001b[1;33m=\u001b[0m\u001b[1;36m1\u001b[0m\u001b[1;33m)\u001b[0m\u001b[1;33m\u001b[0m\u001b[1;33m\u001b[0m\u001b[0m\n\u001b[0;32m     90\u001b[0m         \u001b[1;32mreturn\u001b[0m \u001b[0mvalues\u001b[0m\u001b[1;33m\u001b[0m\u001b[1;33m\u001b[0m\u001b[0m\n",
      "\u001b[1;32mc:\\users\\lgrose\\.conda\\envs\\loop\\lib\\site-packages\\LoopStructural\\supports\\structured_tetra.py\u001b[0m in \u001b[0;36mget_tetra_for_location\u001b[1;34m(self, pos)\u001b[0m\n\u001b[0;32m    189\u001b[0m         \u001b[0mvertices_return\u001b[0m \u001b[1;33m=\u001b[0m \u001b[0mnp\u001b[0m\u001b[1;33m.\u001b[0m\u001b[0mzeros\u001b[0m\u001b[1;33m(\u001b[0m\u001b[1;33m(\u001b[0m\u001b[0mpos\u001b[0m\u001b[1;33m.\u001b[0m\u001b[0mshape\u001b[0m\u001b[1;33m[\u001b[0m\u001b[1;36m0\u001b[0m\u001b[1;33m]\u001b[0m\u001b[1;33m,\u001b[0m\u001b[1;36m4\u001b[0m\u001b[1;33m,\u001b[0m\u001b[1;36m3\u001b[0m\u001b[1;33m)\u001b[0m\u001b[1;33m)\u001b[0m\u001b[1;33m\u001b[0m\u001b[1;33m\u001b[0m\u001b[0m\n\u001b[0;32m    190\u001b[0m         \u001b[0mvertices_return\u001b[0m\u001b[1;33m[\u001b[0m\u001b[1;33m:\u001b[0m\u001b[1;33m]\u001b[0m \u001b[1;33m=\u001b[0m \u001b[0mnp\u001b[0m\u001b[1;33m.\u001b[0m\u001b[0mnan\u001b[0m\u001b[1;33m\u001b[0m\u001b[1;33m\u001b[0m\u001b[0m\n\u001b[1;32m--> 191\u001b[1;33m         \u001b[0mvertices_return\u001b[0m\u001b[1;33m[\u001b[0m\u001b[0minside\u001b[0m\u001b[1;33m,\u001b[0m\u001b[1;33m:\u001b[0m\u001b[1;33m,\u001b[0m\u001b[1;33m:\u001b[0m\u001b[1;33m]\u001b[0m \u001b[1;33m=\u001b[0m \u001b[0mvertices\u001b[0m\u001b[1;33m[\u001b[0m\u001b[0mmask\u001b[0m\u001b[1;33m,\u001b[0m\u001b[1;33m:\u001b[0m\u001b[1;33m,\u001b[0m\u001b[1;33m:\u001b[0m\u001b[1;33m]\u001b[0m\u001b[1;33m[\u001b[0m\u001b[0minside\u001b[0m\u001b[1;33m,\u001b[0m\u001b[1;33m:\u001b[0m\u001b[1;33m,\u001b[0m\u001b[1;33m:\u001b[0m\u001b[1;33m]\u001b[0m\u001b[1;33m\u001b[0m\u001b[1;33m\u001b[0m\u001b[0m\n\u001b[0m\u001b[0;32m    192\u001b[0m         \u001b[0mc_return\u001b[0m \u001b[1;33m=\u001b[0m \u001b[0mnp\u001b[0m\u001b[1;33m.\u001b[0m\u001b[0mzeros\u001b[0m\u001b[1;33m(\u001b[0m\u001b[1;33m(\u001b[0m\u001b[0mpos\u001b[0m\u001b[1;33m.\u001b[0m\u001b[0mshape\u001b[0m\u001b[1;33m[\u001b[0m\u001b[1;36m0\u001b[0m\u001b[1;33m]\u001b[0m\u001b[1;33m,\u001b[0m\u001b[1;36m4\u001b[0m\u001b[1;33m)\u001b[0m\u001b[1;33m)\u001b[0m\u001b[1;33m\u001b[0m\u001b[1;33m\u001b[0m\u001b[0m\n\u001b[0;32m    193\u001b[0m         \u001b[0mc_return\u001b[0m\u001b[1;33m[\u001b[0m\u001b[1;33m:\u001b[0m\u001b[1;33m]\u001b[0m \u001b[1;33m=\u001b[0m \u001b[0mnp\u001b[0m\u001b[1;33m.\u001b[0m\u001b[0mnan\u001b[0m\u001b[1;33m\u001b[0m\u001b[1;33m\u001b[0m\u001b[0m\n",
      "\u001b[1;31mIndexError\u001b[0m: boolean index did not match indexed array along dimension 0; dimension is 6688 but corresponding boolean dimension is 7296"
     ]
    }
   ],
   "source": [
    "fault1 = model.create_and_add_fault('fault2',\n",
    "                                    -2.,\n",
    "                                    nelements=4000,\n",
    "                                    solver='lu',\n",
    "                                    interpolatortype='PLI',\n",
    "                                   damp = True,\n",
    "#                                     precon=precon,\n",
    "                                    buffer=np.array([0.5,0.2,0.3]),\n",
    "                                    regularisation=[2.,.2,.2],\n",
    "                                    gxxgy=4.,\n",
    "                                    gxxgz=4.,\n",
    "                                    gyxgz=4.,\n",
    "#                                                                         region=interpolation_region\n",
    "                                    steps=10,\n",
    "                                    cpw=10\n",
    "                                    \n",
    "                                   )\n",
    "# splay_region = lambda pos : np.logical_or(fault1['feature'].apply_to_points(pos)[:,0] < (-4.5-model.origin[0])/model.scale_factor, \n",
    "#                                           fault1['feature'].apply_to_points(pos)[:,0] > (4.5-model.origin[0])/model.scale_factor)\n",
    "fault2 = model.create_and_add_fault('fault1',\n",
    "                                    -2,\n",
    "                                    nelements=4000,\n",
    "                                    solver='lu',\n",
    "                                    interpolatortype='PLI',\n",
    "                                   damp = True,\n",
    "                                    splayregion=splay_region,\n",
    "                                    splay = fault1['feature'],\n",
    "                                    regularisation=[2.,.5,.5],\n",
    "                                    gxxgy=4.,\n",
    "                                    gxxgz=4.,\n",
    "                                    gyxgz=4.,\n",
    "#                                     precon=precon,\n",
    "                                    buffer=np.array([0.6,0.2,0.2]),\n",
    "#                                                                         region=interpolation_region\n",
    "                                    steps=10,\n",
    "                                    cpw=10,\n",
    "                                    overprinted=['fault2'],\n",
    "                                   )\n",
    "strati = model.create_and_add_foliation('strati',\n",
    "                                        solver='lu',\n",
    "                                        interpolatortype='PLI', \n",
    "                                        nelements=1500,\n",
    "                                        damp=True,\n",
    "                                        buffer=np.array([0.8,0.4,0.4])\n",
    "                                       )"
   ]
  },
  {
   "cell_type": "code",
   "execution_count": null,
   "metadata": {},
   "outputs": [],
   "source": [
    "viewer = LavaVuModelViewer(model)\n",
    "viewer.nsteps = np.array([100,20,100])\n",
    "# viewer.add_vector_field(strati['feature'])#,locations=nodes2)#,model.regular_grid((25,25,12)))\n",
    "\n",
    "viewer.add_scalar_field(strati['feature'],cmap='tab20')\n",
    "viewer.lv.rotatex(-90)\n",
    "viewer.lv['xmin'] = -1\n",
    "viewer.lv['ymin'] = -1\n",
    "viewer.lv['zmin'] = -1\n",
    "viewer.lv['xmax'] = 1\n",
    "viewer.lv['ymax'] = 1\n",
    "viewer.lv['zmax'] = 1\n",
    "viewer.lv['border'] = 0\n",
    "viewer.lv.image('fault_duplex_scalar_field.png')\n",
    "viewer.lv.display()"
   ]
  },
  {
   "cell_type": "markdown",
   "metadata": {},
   "source": [
    "Build mesh and link to interpolator"
   ]
  },
  {
   "cell_type": "code",
   "execution_count": null,
   "metadata": {
    "ExecuteTime": {
     "end_time": "2019-11-14T04:25:22.195483Z",
     "start_time": "2019-11-14T04:25:21.605554Z"
    }
   },
   "outputs": [],
   "source": [
    "mesh = TetMesh()\n",
    "mesh.setup_mesh(boundary_points, nstep=1, n_tetra=30000,)\n",
    "interpolator = PLI(mesh)\n",
    "stratigraphy_builder = GeologicalFeatureInterpolator(\n",
    "    interpolator=interpolator,\n",
    "    name='stratigraphy')"
   ]
  },
  {
   "cell_type": "markdown",
   "metadata": {},
   "source": [
    "Add data to the interpolator for flat lying stratigraph. Only a single value point and flat orientation measurement is required."
   ]
  },
  {
   "cell_type": "code",
   "execution_count": null,
   "metadata": {
    "ExecuteTime": {
     "end_time": "2019-11-14T04:25:31.990499Z",
     "start_time": "2019-11-14T04:25:30.693035Z"
    }
   },
   "outputs": [],
   "source": [
    "solver = 'lu'\n",
    "stratigraphy_builder.add_point([6.1,0.1,1.1],0.)\n",
    "stratigraphy_builder.add_strike_and_dip([1,1,1],90.,0.)\n",
    "stratigraphy = stratigraphy_builder.build(solver=solver)"
   ]
  },
  {
   "cell_type": "markdown",
   "metadata": {},
   "source": [
    "Define younger fault geometry - floor and roof are the relative heights of the bottom and top flat sections of the duplex structure. You can change these $\\pm 2$"
   ]
  },
  {
   "cell_type": "code",
   "execution_count": null,
   "metadata": {
    "ExecuteTime": {
     "end_time": "2019-11-14T04:26:21.336891Z",
     "start_time": "2019-11-14T04:26:17.139319Z"
    }
   },
   "outputs": [],
   "source": [
    "floor = -4\n",
    "roof = 4\n",
    "fault_interpolator = PLI(mesh)\n",
    "fault = StructuralFrameBuilder(interpolator=fault_interpolator,mesh=mesh,name='FaultSegment1')\n",
    "for y in range(-5,5,1):\n",
    "    fault.add_strike_dip_and_value([-35.17,y,floor],strike=0.,dip=0.,val=0,itype='gx')\n",
    "    fault.add_strike_dip_and_value([-25.17,y,floor],strike=0.,dip=0.,val=0,itype='gx')\n",
    "    fault.add_strike_dip_and_value([-5.17,y,roof],strike=0.,dip=0.,val=0,itype='gx')\n",
    "    fault.add_strike_dip_and_value([15.17,y,roof],strike=0.,dip=0.,val=0,itype='gx')\n",
    "    fault.add_strike_dip_and_value([18.17,y,roof],strike=0.,dip=0.,val=0,itype='gx')\n",
    "    \n",
    "fault.add_point([2.5,5,1.5],0.,itype='gz')\n",
    "fault.add_point([2.5,-5,1.5],1.,itype='gz')\n",
    "for y in range(-20,20,1):\n",
    "    fault.add_point([-10.5,y,floor],0.,itype='gy')\n",
    "    fault.add_point([11.56,y,roof],1.,itype='gy')\n",
    "    \n",
    "fault_frame = fault.build(\n",
    "    solver=solver,\n",
    "    cpw=10,\n",
    "    gpw=10\n",
    ")\n",
    "fault_frame2_interpolator = PLI(mesh)\n",
    "\n"
   ]
  },
  {
   "cell_type": "markdown",
   "metadata": {},
   "source": [
    "Define older fault geometry"
   ]
  },
  {
   "cell_type": "code",
   "execution_count": null,
   "metadata": {
    "ExecuteTime": {
     "end_time": "2019-11-14T04:26:27.069628Z",
     "start_time": "2019-11-14T04:26:23.101053Z"
    }
   },
   "outputs": [],
   "source": [
    "fault2 = StructuralFrameBuilder(\n",
    "    interpolator=fault_frame2_interpolator,\n",
    "    mesh=mesh,\n",
    "    name='FaultSegment2'\n",
    ")\n",
    "for y in range(-5,5,1):\n",
    "    fault2.add_strike_dip_and_value([-18.17,y,floor],strike=0.,dip=0.,val=0,itype='gx')\n",
    "    fault2.add_strike_dip_and_value([-15.17,y,floor],strike=0.,dip=0.,val=0,itype='gx')\n",
    "    fault2.add_strike_dip_and_value([-10.17,y,floor],strike=0.,dip=0.,val=0,itype='gx')\n",
    "    fault2.add_strike_dip_and_value([8.17,y,roof],strike=0.,dip=0.,val=0,itype='gx')\n",
    "    fault2.add_strike_dip_and_value([15.17,y,roof],strike=0.,dip=0.,val=0,itype='gx')\n",
    "    fault2.add_strike_dip_and_value([18.17,y,roof],strike=0.,dip=0.,val=0,itype='gx')\n",
    "    fault_operator = FaultSegment(fault_frame)\n",
    "fault2.add_point([2.5,5,1.5],0.,itype='gz')\n",
    "fault2.add_point([2.5,-5,1.5],1.,itype='gz')\n",
    "for y in range(-5,5,1):\n",
    "    fault2.add_point([-10.5,y,floor],0.,itype='gy')\n",
    "    fault2.add_point([11.56,y,roof],1.,itype='gy')\n",
    "fault_frame2 = fault2.build(\n",
    "    solver='lu',\n",
    "    cpw=10,\n",
    "    gpw=10\n",
    ")\n",
    "\n"
   ]
  },
  {
   "cell_type": "markdown",
   "metadata": {},
   "source": [
    "Define fault operators and appy younger fault to restore older fault displacement can be changed $\\pm 2$"
   ]
  },
  {
   "cell_type": "code",
   "execution_count": null,
   "metadata": {
    "ExecuteTime": {
     "end_time": "2019-11-14T04:26:47.101354Z",
     "start_time": "2019-11-14T04:26:44.904268Z"
    }
   },
   "outputs": [],
   "source": [
    "fault = FaultSegment(fault_frame, \n",
    "                     displacement=-4.5)\n",
    "fault2 = FaultSegment(fault_frame2, \n",
    "                      displacement=-4.5)\n",
    "faulted_frame = []\n",
    "for f in fault_frame.features:\n",
    "    faulted_frame.append(FaultedGeologicalFeature(f, fault2))\n",
    "#\n",
    "structural_frame2 = StructuralFrame(\"faulted_frame\", faulted_frame)"
   ]
  },
  {
   "cell_type": "code",
   "execution_count": null,
   "metadata": {
    "ExecuteTime": {
     "end_time": "2019-11-14T04:27:21.438634Z",
     "start_time": "2019-11-14T04:26:57.206651Z"
    }
   },
   "outputs": [],
   "source": [
    "faulted1_op = FaultSegment(structural_frame2, \n",
    "                           displacement=-4.5)"
   ]
  },
  {
   "cell_type": "markdown",
   "metadata": {},
   "source": [
    "**Use the following cell for modelling only the younger fault**"
   ]
  },
  {
   "cell_type": "code",
   "execution_count": null,
   "metadata": {},
   "outputs": [],
   "source": [
    "faulted_strati = FaultedGeologicalFeature(stratigraphy, fault2)"
   ]
  },
  {
   "cell_type": "markdown",
   "metadata": {},
   "source": [
    "**Comment out the previous lines and uncomment the following lines to use both faults**\n",
    "To comment and uncomment code select the lines with your cursor and press `crtrl` `/` (or add `#` to the start of a line) "
   ]
  },
  {
   "cell_type": "code",
   "execution_count": null,
   "metadata": {},
   "outputs": [],
   "source": [
    "# faulted_strati = FaultedGeologicalFeature(\n",
    "#     FaultedGeologicalFeature(stratigraphy, fault2),\n",
    "#     faulted1_op) #fault_operator)#"
   ]
  },
  {
   "cell_type": "code",
   "execution_count": null,
   "metadata": {
    "ExecuteTime": {
     "start_time": "2019-11-14T04:27:42.180Z"
    }
   },
   "outputs": [],
   "source": [
    "viewer = LavaVuModelViewer(background=\"white\")\n",
    "slices = [-4,-2,0]\n",
    "viewer.add_isosurface(\n",
    "    fault_frame2.features[0],\n",
    "    isovalue=0,\n",
    "    colour='black'\n",
    ")\n",
    "viewer.add_isosurface(\n",
    "    structural_frame2.features[0],\n",
    "    isovalue=0,\n",
    "    colour='black'\n",
    ")\n",
    "locations = mesh.barycentre[::10, :]\n",
    "viewer.add_isosurface(\n",
    "    faulted_strati,\n",
    "    paint_with=faulted_strati,\n",
    "    # colour='green',\n",
    "    nslices=10\n",
    ")\n",
    "viewer.add_isosurface(fault_frame.features[0],\n",
    "                     isovalue=0)\n",
    "viewer.add_data(fault_frame.features[0])\n",
    "viewer.add_data(fault_frame2.features[0])\n",
    "viewer.interactive()"
   ]
  },
  {
   "cell_type": "code",
   "execution_count": null,
   "metadata": {},
   "outputs": [],
   "source": []
  },
  {
   "cell_type": "code",
   "execution_count": null,
   "metadata": {
    "scrolled": false
   },
   "outputs": [],
   "source": [
    "viewer = LavaVuModelViewer()\n",
    "viewer.add_isosurface(\n",
    "    fault_frame2.features[0],\n",
    "    isovalue=0,\n",
    "    colour='black'\n",
    ")\n",
    "viewer.add_isosurface(\n",
    "    structural_frame2.features[0],\n",
    "    isovalue=0,\n",
    "    colour='black'\n",
    ")\n",
    "viewer.add_isosurface(\n",
    "    fault_frame.features[0],\n",
    "    isovalue=0,\n",
    "    colour='red'\n",
    ")\n",
    "nodes = mesh.nodes[::20]\n",
    "nodes = nodes[fault_frame2.features[0].evaluate_value(nodes)>0] \n",
    "viewer.add_vector_field(fault_frame2.features[1],nodes,pointsize=4)\n",
    "nodes = mesh.nodes[::20]\n",
    "nodes = nodes[structural_frame2.features[0].evaluate_value(nodes)>0] \n",
    "viewer.add_vector_field(structural_frame2.features[1],nodes,pointsize=4)\n",
    "viewer.interactive()"
   ]
  },
  {
   "cell_type": "code",
   "execution_count": null,
   "metadata": {},
   "outputs": [],
   "source": [
    "viewer = LavaVuModelViewer()\n",
    "viewer.add_scalar_field(boundary_points,\n",
    "                      (100,100,50),\n",
    "                      's0',\n",
    "                      cmap='tab20',\n",
    "                      paint_with=faulted_strati)\n",
    "viewer.interactive()"
   ]
  },
  {
   "cell_type": "code",
   "execution_count": null,
   "metadata": {},
   "outputs": [],
   "source": []
  }
 ],
 "metadata": {
  "kernelspec": {
   "display_name": "loop",
   "language": "python",
   "name": "loop"
  },
  "language_info": {
   "codemirror_mode": {
    "name": "ipython",
    "version": 3
   },
   "file_extension": ".py",
   "mimetype": "text/x-python",
   "name": "python",
   "nbconvert_exporter": "python",
   "pygments_lexer": "ipython3",
   "version": "3.7.4"
  },
  "varInspector": {
   "cols": {
    "lenName": 16,
    "lenType": 16,
    "lenVar": 40
   },
   "kernels_config": {
    "python": {
     "delete_cmd_postfix": "",
     "delete_cmd_prefix": "del ",
     "library": "var_list.py",
     "varRefreshCmd": "print(var_dic_list())"
    },
    "r": {
     "delete_cmd_postfix": ") ",
     "delete_cmd_prefix": "rm(",
     "library": "var_list.r",
     "varRefreshCmd": "cat(var_dic_list()) "
    }
   },
   "types_to_exclude": [
    "module",
    "function",
    "builtin_function_or_method",
    "instance",
    "_Feature"
   ],
   "window_display": false
  }
 },
 "nbformat": 4,
 "nbformat_minor": 2
}
