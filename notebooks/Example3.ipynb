{
 "cells": [
  {
   "cell_type": "markdown",
   "metadata": {},
   "source": [
    "<img src=\"images/banner.png\" alt=\"Folded outcrop\" />"
   ]
  },
  {
   "cell_type": "markdown",
   "metadata": {},
   "source": [
    "## Refolded fold example\n",
    "This example was originally presented Laurent et al., 2016. It uses the automatic classification of the fold geometry from the S-PLot (Grose et al., 2017)\n",
    "\n",
    "## References\n",
    "Grose, L., Laurent, G., Aillères, L., Armit, R., Jessell, M. and Caumon, G.: Structural data constraints for implicit modeling of folds, J. Struct. Geol., 104, 80–92, doi:10.1016/j.jsg.2017.09.013, 2017.\n",
    "Laurent, G., Ailleres, L., Grose, L., Caumon, G., Jessell, M. and Armit, R.: Implicit modeling of folds and overprinting deformation, Earth Planet. Sci. Lett., 456, 26–38, doi:10.1016/j.epsl.2016.09.040, 2016.\n"
   ]
  },
  {
   "cell_type": "code",
   "execution_count": null,
   "metadata": {
    "ExecuteTime": {
     "end_time": "2019-12-17T02:35:52.887511Z",
     "start_time": "2019-12-17T02:35:51.992588Z"
    }
   },
   "outputs": [],
   "source": [
    "from LoopStructural import GeologicalModel\n",
    "from LoopStructural.visualisation import LavaVuModelViewer, RotationAnglePlotter\n",
    "from LoopStructural.datasets import load_laurent2016\n",
    "import numpy as np\n",
    "import pandas as pd\n",
    "import glob\n",
    "import os\n",
    "import matplotlib.pyplot as plt\n",
    "import logging\n",
    "# logging.getLogger().setLevel(logging.INFO)"
   ]
  },
  {
   "cell_type": "code",
   "execution_count": null,
   "metadata": {
    "ExecuteTime": {
     "end_time": "2019-12-17T02:35:52.893794Z",
     "start_time": "2019-12-17T02:35:52.889499Z"
    }
   },
   "outputs": [],
   "source": [
    "# load in the data from the provided examples\n",
    "data, bb = load_laurent2016()\n",
    "# define view for the figure\n",
    "rotation= [-69.11981964111328, 15.704948425292969, 6.000146389007568]\n",
    "\n",
    "# bb[1,2] = 10000"
   ]
  },
  {
   "cell_type": "code",
   "execution_count": null,
   "metadata": {},
   "outputs": [],
   "source": [
    "newdata = pd.DataFrame([[5923.504395,4748.135254,3588.621094,'s2',1.0]],columns=['X','Y','Z','feature_name','val'])\n",
    "data = pd.concat([data,newdata],sort=False)\n",
    "data[np.logical_and(data['feature_name'] == 's2',np.isnan(data['nx']))]\n",
    "data.loc[np.logical_and(data['feature_name'] == 's0',~np.isnan(data['val'])),'feature_name'] = 's01'\n"
   ]
  },
  {
   "cell_type": "markdown",
   "metadata": {},
   "source": [
    "### Modelling S2\n",
    "In this model both F2 and F1 share the same cylindrical fold axis. As a result we only need to model the axial foliations. LoopStructural will give a warning saying that the 1st coordinate of the fold frame could not be built but this is not a problem for this model."
   ]
  },
  {
   "cell_type": "code",
   "execution_count": null,
   "metadata": {
    "ExecuteTime": {
     "end_time": "2019-12-17T02:35:54.647840Z",
     "start_time": "2019-12-17T02:35:52.917828Z"
    }
   },
   "outputs": [],
   "source": [
    "model = GeologicalModel(bb[0,:],bb[1,:])\n",
    "model.set_model_data(data)\n",
    "s2 = model.create_and_add_fold_frame('s2',\n",
    "                                     nelements=10000, \n",
    "                                     buffer=0.5,\n",
    "                                    solver='lu',\n",
    "                                    damp=True)\n",
    "viewer = LavaVuModelViewer(model)\n",
    "viewer.add_scalar_field(s2[0],\n",
    "                       cmap='prism')\n",
    "viewer.add_isosurface(s2[0],\n",
    "                     slices=[0,1])\n",
    "viewer.add_data(s2[0])\n",
    "viewer.rotation = rotation\n",
    "viewer.interactive()\n",
    "# viewer.display()\n"
   ]
  },
  {
   "cell_type": "markdown",
   "metadata": {},
   "source": [
    "### Modelling S1\n",
    "S1 is modelled using the geometry of S2 to constrain the axial foliation and a constant fold axis that is defined by the average intersection lineation between the gradient of S2 and the observations of S1. The geometry of the fold is constrained by fitting a periodic profile to the S-Plot which is a cross plot of the axial foliation scalar field value and the fold rotation angle. "
   ]
  },
  {
   "cell_type": "code",
   "execution_count": null,
   "metadata": {
    "ExecuteTime": {
     "end_time": "2019-12-17T02:36:01.553959Z",
     "start_time": "2019-12-17T02:35:56.572401Z"
    },
    "scrolled": false
   },
   "outputs": [],
   "source": [
    "s1 = model.create_and_add_folded_fold_frame('s1',\n",
    "                                            limb_wl=4, \n",
    "                                            av_fold_axis=True,\n",
    "                                            nelements=50000,\n",
    "                                            buffer=0.3,\n",
    "                                            solver='lu'\n",
    "                                           )\n",
    "\n"
   ]
  },
  {
   "cell_type": "code",
   "execution_count": null,
   "metadata": {},
   "outputs": [],
   "source": [
    "s1.fold.foldframe[0].set_model(model)\n",
    "# s1.fold.foldframe[1].set_model(model)\n",
    "\n",
    "s2_s1_splot = RotationAnglePlotter(s1)\n",
    "s2_s1_splot.add_fold_limb_data()\n",
    "s2_s1_splot.add_fold_limb_curve() \n",
    "s2_s1_splot.add_limb_svariogram()#fold_limb_\n",
    "s2_s1_splot.default_titles()\n",
    "s2_s1_splot.fig.delaxes(s2_s1_splot.ax[0][0])\n",
    "s2_s1_splot.fig.delaxes(s2_s1_splot.ax[0][1])\n"
   ]
  },
  {
   "cell_type": "code",
   "execution_count": null,
   "metadata": {
    "ExecuteTime": {
     "end_time": "2019-12-17T02:36:18.438824Z",
     "start_time": "2019-12-17T02:36:16.244070Z"
    },
    "scrolled": false
   },
   "outputs": [],
   "source": [
    "viewer = LavaVuModelViewer(model)\n",
    "viewer.add_scalar_field(s1[0],\n",
    "                       cmap='prism')\n",
    "viewer.rotate([-69.11979675292969, 15.704944610595703, 6.00014591217041])\n",
    "viewer.display()\n",
    "\n",
    "# fig, ax = plt.subplots(1,2,figsize=(10,5))\n",
    "# x = np.linspace(s2[0].min(),s2[0].max(),1000)\n",
    "# ax[0].plot(x,s1.fold.fold_limb_rotation(x))\n",
    "# ax[0].plot(s1.f['foliation'],s1['limb_rotation'],'bo')\n",
    "# ax[1].plot(s1['limb_svariogram'].lags,s1['limb_svariogram'].variogram,'bo')\n"
   ]
  },
  {
   "cell_type": "markdown",
   "metadata": {},
   "source": [
    "### Modelling S0\n",
    "S0 is modelled using the same workflow as S1 except the S1 field is used as the axial foliation."
   ]
  },
  {
   "cell_type": "code",
   "execution_count": null,
   "metadata": {
    "ExecuteTime": {
     "end_time": "2019-12-17T02:36:29.812069Z",
     "start_time": "2019-12-17T02:36:20.832342Z"
    },
    "scrolled": false
   },
   "outputs": [],
   "source": [
    "s0 = model.create_and_add_folded_foliation('s0',\n",
    "                                            limb_wl=1., \n",
    "                                            av_fold_axis=True,\n",
    "                                            nelements=50000,\n",
    "                                            buffer=0.2,\n",
    "                                            damp=True,\n",
    "                                           solver='lu'\n",
    "                                           )"
   ]
  },
  {
   "cell_type": "code",
   "execution_count": null,
   "metadata": {},
   "outputs": [],
   "source": [
    "s0.fold.foldframe[0].set_model(model)\n",
    "s1_s0_splot = RotationAnglePlotter(s0)\n",
    "s1_s0_splot.add_fold_limb_data()\n",
    "s1_s0_splot.add_fold_limb_curve()\n",
    "s1_s0_splot.add_limb_svariogram()\n",
    "s1_s0_splot.default_titles()\n",
    "s1_s0_splot.fig.delaxes(s1_s0_splot.ax[0][0])\n",
    "s1_s0_splot.fig.delaxes(s1_s0_splot.ax[0][1])"
   ]
  },
  {
   "cell_type": "code",
   "execution_count": null,
   "metadata": {
    "ExecuteTime": {
     "end_time": "2019-12-17T02:36:32.388757Z",
     "start_time": "2019-12-17T02:36:29.991726Z"
    }
   },
   "outputs": [],
   "source": [
    "viewer = LavaVuModelViewer(model)\n",
    "viewer.add_scalar_field(s0,\n",
    "                       cmap='tab20')\n",
    "viewer.rotation = rotation#[69.11979675292969, 15.704944610595703, 6.00014591217041]\n",
    "viewer.display()\n",
    "viewer.image('images/refolded_folds.jpg')"
   ]
  },
  {
   "cell_type": "code",
   "execution_count": null,
   "metadata": {},
   "outputs": [],
   "source": [
    "viewer = LavaVuModelViewer(model)\n",
    "viewer.add_isosurface(s0,nslices=10,paint_with=s0,cmap='tab20')\n",
    "# viewer.add_data(s0['feature'])\n",
    "# viewer.add_fold(s0['fold'],locations=s0['support'].barycentre()[::80])\n",
    "viewer.rotation = rotation\n",
    "viewer.display()"
   ]
  },
  {
   "cell_type": "code",
   "execution_count": null,
   "metadata": {},
   "outputs": [],
   "source": []
  }
 ],
 "metadata": {
  "kernelspec": {
   "display_name": "Python 3",
   "language": "python",
   "name": "python3"
  },
  "language_info": {
   "codemirror_mode": {
    "name": "ipython",
    "version": 3
   },
   "file_extension": ".py",
   "mimetype": "text/x-python",
   "name": "python",
   "nbconvert_exporter": "python",
   "pygments_lexer": "ipython3",
   "version": "3.8.5"
  },
  "varInspector": {
   "cols": {
    "lenName": 16,
    "lenType": 16,
    "lenVar": 40
   },
   "kernels_config": {
    "python": {
     "delete_cmd_postfix": "",
     "delete_cmd_prefix": "del ",
     "library": "var_list.py",
     "varRefreshCmd": "print(var_dic_list())"
    },
    "r": {
     "delete_cmd_postfix": ") ",
     "delete_cmd_prefix": "rm(",
     "library": "var_list.r",
     "varRefreshCmd": "cat(var_dic_list()) "
    }
   },
   "types_to_exclude": [
    "module",
    "function",
    "builtin_function_or_method",
    "instance",
    "_Feature"
   ],
   "window_display": false
  }
 },
 "nbformat": 4,
 "nbformat_minor": 2
}
