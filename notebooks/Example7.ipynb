{
 "cells": [
  {
   "cell_type": "code",
   "execution_count": 1,
   "metadata": {
    "ExecuteTime": {
     "end_time": "2020-02-05T04:32:57.067520Z",
     "start_time": "2020-02-05T04:32:56.121997Z"
    }
   },
   "outputs": [],
   "source": [
    "from LoopStructural import GeologicalModel\n",
    "from LoopStructural.modelling.fault.fault_function import BaseFault\n",
    "from LoopStructural.visualisation import LavaVuModelViewer\n",
    "from LoopStructural.utils.helper import strike_dip_vector\n",
    "# import other libraries\n",
    "import pandas as pd\n",
    "import numpy as np\n",
    "import logging\n",
    "logging.getLogger().setLevel(logging.ERROR)"
   ]
  },
  {
   "cell_type": "markdown",
   "metadata": {},
   "source": [
    "### Import data from map2loop\n",
    "Here we just use pandas to read the csvs that map2loop produces but ideally this could be done through API calls"
   ]
  },
  {
   "cell_type": "code",
   "execution_count": 21,
   "metadata": {},
   "outputs": [],
   "source": [
    "fault_fault_relations = pd.read_csv('data/fault-fault-relationships.csv')\n",
    "fault_strat_relations = pd.read_csv('data/group-fault-relationships.csv')\n",
    "location_data = pd.read_csv('data/hams2_faults.csv')\n",
    "orientations = pd.read_csv('data/test_data3/output/orientations.csv')\n",
    "contacts = pd.read_csv('data/test_data3/output/contacts4.csv')\n",
    "location_data['val'] = 0\n",
    "orientation_data = pd.read_csv('data/hams2_fault_orientations.csv')\n",
    "# import thickness and calculate average thickness for the lithology\n",
    "df = pd.read_csv('data/test_data3/output/formation_thicknesses.csv')\n",
    "thickness = {}\n",
    "for f in df['formation'].unique():\n",
    "    thickness[f] = np.mean(df[df['formation']==f]['thickness'])"
   ]
  },
  {
   "cell_type": "markdown",
   "metadata": {},
   "source": [
    "### Define which units we want to model\n",
    "Using the topology ordering within a group to define which horizons we are modelling and their relative thicknesses (this was extracted from a map2loop output and is uncertain)."
   ]
  },
  {
   "cell_type": "code",
   "execution_count": 23,
   "metadata": {
    "ExecuteTime": {
     "end_time": "2020-02-05T04:32:57.119725Z",
     "start_time": "2020-02-05T04:32:57.117261Z"
    }
   },
   "outputs": [],
   "source": [
    "order = ['A_HAu_xsl_ci',\n",
    "'A_HAd_kd',\n",
    "'A_HAm_cib',\n",
    "'A_FOj_xs_b',\n",
    "'A_FO_xo_a',\n",
    "'A_FO_od',\n",
    "'A_FOu_bbo',\n",
    "'A_FOp_bs',\n",
    "'A_FOo_bbo',\n",
    "'A_FOh_xs_f',\n",
    "'A_FOr_b',\n",
    "'A_s_PMI',\n",
    "'A_mgn_PRK']"
   ]
  },
  {
   "cell_type": "code",
   "execution_count": 24,
   "metadata": {
    "ExecuteTime": {
     "end_time": "2020-02-05T04:32:57.132612Z",
     "start_time": "2020-02-05T04:32:57.120952Z"
    }
   },
   "outputs": [],
   "source": [
    "strat_val = {}\n",
    "val = 0\n",
    "for o in order:\n",
    "    if o in thickness:\n",
    "        strat_val[o] = val\n",
    "        val+=thickness[o]"
   ]
  },
  {
   "cell_type": "code",
   "execution_count": 25,
   "metadata": {
    "ExecuteTime": {
     "end_time": "2020-02-05T04:32:57.172566Z",
     "start_time": "2020-02-05T04:32:57.134124Z"
    }
   },
   "outputs": [],
   "source": [
    "# add the stratigraphy cumulative thickness as the scalarfield value\n",
    "contacts['val'] = np.nan \n",
    "\n",
    "for o in strat_val:\n",
    "    contacts.loc[contacts['formation']==o,'val'] = strat_val[o]\n",
    "sdata = pd.concat([orientations,contacts],sort=False)\n"
   ]
  },
  {
   "cell_type": "markdown",
   "metadata": {},
   "source": [
    "### Use estimated displacements to define fault displacement value\n",
    "Here we use the maximum estimated displacement to define the fault displacement - ideally this should actually be done by fitting the fault profile to the data"
   ]
  },
  {
   "cell_type": "code",
   "execution_count": 26,
   "metadata": {
    "ExecuteTime": {
     "end_time": "2020-02-05T04:32:57.178840Z",
     "start_time": "2020-02-05T04:32:57.174119Z"
    }
   },
   "outputs": [],
   "source": [
    "displacements = pd.read_csv('data/fault_displacements3.csv')"
   ]
  },
  {
   "cell_type": "code",
   "execution_count": 28,
   "metadata": {
    "ExecuteTime": {
     "end_time": "2020-02-05T04:32:57.201561Z",
     "start_time": "2020-02-05T04:32:57.181027Z"
    }
   },
   "outputs": [],
   "source": [
    "data = pd.concat([location_data,orientation_data,sdata],sort=True)\n",
    "data['strike'] = data['azimuth']-90\n",
    "data['nx'] = np.nan\n",
    "data['ny'] = np.nan\n",
    "data['nz'] = np.nan\n",
    "data[['nx','ny','nz']] = strike_dip_vector(data['strike'],data['dip'])\n",
    "data = data.reset_index(drop=True)"
   ]
  },
  {
   "cell_type": "code",
   "execution_count": 29,
   "metadata": {
    "ExecuteTime": {
     "end_time": "2020-02-05T04:32:57.220207Z",
     "start_time": "2020-02-05T04:32:57.203392Z"
    }
   },
   "outputs": [
    {
     "data": {
      "text/html": [
       "<div>\n",
       "<style scoped>\n",
       "    .dataframe tbody tr th:only-of-type {\n",
       "        vertical-align: middle;\n",
       "    }\n",
       "\n",
       "    .dataframe tbody tr th {\n",
       "        vertical-align: top;\n",
       "    }\n",
       "\n",
       "    .dataframe thead th {\n",
       "        text-align: right;\n",
       "    }\n",
       "</style>\n",
       "<table border=\"1\" class=\"dataframe\">\n",
       "  <thead>\n",
       "    <tr style=\"text-align: right;\">\n",
       "      <th></th>\n",
       "      <th>X</th>\n",
       "      <th>Y</th>\n",
       "      <th>fname</th>\n",
       "      <th>apparent_displacement</th>\n",
       "      <th>vertical_displacement</th>\n",
       "    </tr>\n",
       "  </thead>\n",
       "  <tbody>\n",
       "    <tr>\n",
       "      <th>10</th>\n",
       "      <td>530193.100235</td>\n",
       "      <td>7.489541e+06</td>\n",
       "      <td>Fault_3496</td>\n",
       "      <td>-3227</td>\n",
       "      <td>1902</td>\n",
       "    </tr>\n",
       "    <tr>\n",
       "      <th>15</th>\n",
       "      <td>527680.867203</td>\n",
       "      <td>7.490013e+06</td>\n",
       "      <td>Fault_12647</td>\n",
       "      <td>1974</td>\n",
       "      <td>1775</td>\n",
       "    </tr>\n",
       "    <tr>\n",
       "      <th>64</th>\n",
       "      <td>514456.268843</td>\n",
       "      <td>7.510127e+06</td>\n",
       "      <td>Fault_12660</td>\n",
       "      <td>1820</td>\n",
       "      <td>1043</td>\n",
       "    </tr>\n",
       "    <tr>\n",
       "      <th>70</th>\n",
       "      <td>521012.040045</td>\n",
       "      <td>7.512605e+06</td>\n",
       "      <td>Fault_16769</td>\n",
       "      <td>-1411</td>\n",
       "      <td>1017</td>\n",
       "    </tr>\n",
       "    <tr>\n",
       "      <th>98</th>\n",
       "      <td>539162.759905</td>\n",
       "      <td>7.463113e+06</td>\n",
       "      <td>Fault_7344</td>\n",
       "      <td>-32595</td>\n",
       "      <td>18528</td>\n",
       "    </tr>\n",
       "    <tr>\n",
       "      <th>99</th>\n",
       "      <td>531591.341034</td>\n",
       "      <td>7.465353e+06</td>\n",
       "      <td>Fault_7344</td>\n",
       "      <td>3819</td>\n",
       "      <td>1078</td>\n",
       "    </tr>\n",
       "    <tr>\n",
       "      <th>100</th>\n",
       "      <td>511878.167628</td>\n",
       "      <td>7.478935e+06</td>\n",
       "      <td>Fault_7344</td>\n",
       "      <td>32433</td>\n",
       "      <td>6231</td>\n",
       "    </tr>\n",
       "    <tr>\n",
       "      <th>106</th>\n",
       "      <td>506417.257805</td>\n",
       "      <td>7.491318e+06</td>\n",
       "      <td>Fault_7344</td>\n",
       "      <td>-3586</td>\n",
       "      <td>1151</td>\n",
       "    </tr>\n",
       "    <tr>\n",
       "      <th>115</th>\n",
       "      <td>581824.430395</td>\n",
       "      <td>7.486696e+06</td>\n",
       "      <td>Fault_6825</td>\n",
       "      <td>-5335</td>\n",
       "      <td>1101</td>\n",
       "    </tr>\n",
       "    <tr>\n",
       "      <th>120</th>\n",
       "      <td>580338.020429</td>\n",
       "      <td>7.480681e+06</td>\n",
       "      <td>Fault_2996</td>\n",
       "      <td>7468</td>\n",
       "      <td>2138</td>\n",
       "    </tr>\n",
       "    <tr>\n",
       "      <th>152</th>\n",
       "      <td>504410.599292</td>\n",
       "      <td>7.489049e+06</td>\n",
       "      <td>Fault_6205</td>\n",
       "      <td>5048</td>\n",
       "      <td>1198</td>\n",
       "    </tr>\n",
       "  </tbody>\n",
       "</table>\n",
       "</div>"
      ],
      "text/plain": [
       "                 X             Y        fname  apparent_displacement  \\\n",
       "10   530193.100235  7.489541e+06   Fault_3496                  -3227   \n",
       "15   527680.867203  7.490013e+06  Fault_12647                   1974   \n",
       "64   514456.268843  7.510127e+06  Fault_12660                   1820   \n",
       "70   521012.040045  7.512605e+06  Fault_16769                  -1411   \n",
       "98   539162.759905  7.463113e+06   Fault_7344                 -32595   \n",
       "99   531591.341034  7.465353e+06   Fault_7344                   3819   \n",
       "100  511878.167628  7.478935e+06   Fault_7344                  32433   \n",
       "106  506417.257805  7.491318e+06   Fault_7344                  -3586   \n",
       "115  581824.430395  7.486696e+06   Fault_6825                  -5335   \n",
       "120  580338.020429  7.480681e+06   Fault_2996                   7468   \n",
       "152  504410.599292  7.489049e+06   Fault_6205                   5048   \n",
       "\n",
       "     vertical_displacement  \n",
       "10                    1902  \n",
       "15                    1775  \n",
       "64                    1043  \n",
       "70                    1017  \n",
       "98                   18528  \n",
       "99                    1078  \n",
       "100                   6231  \n",
       "106                   1151  \n",
       "115                   1101  \n",
       "120                   2138  \n",
       "152                   1198  "
      ]
     },
     "execution_count": 29,
     "metadata": {},
     "output_type": "execute_result"
    }
   ],
   "source": [
    "displacements[np.logical_and(np.abs(displacements['vertical_displacement'])>500,np.abs(displacements['vertical_displacement'])>1000)]"
   ]
  },
  {
   "cell_type": "code",
   "execution_count": 30,
   "metadata": {
    "ExecuteTime": {
     "end_time": "2020-02-05T04:32:57.234860Z",
     "start_time": "2020-02-05T04:32:57.221494Z"
    }
   },
   "outputs": [],
   "source": [
    "fault_names = displacements.fname.unique()"
   ]
  },
  {
   "cell_type": "code",
   "execution_count": 31,
   "metadata": {
    "ExecuteTime": {
     "end_time": "2020-02-05T04:32:57.341484Z",
     "start_time": "2020-02-05T04:32:57.278777Z"
    }
   },
   "outputs": [
    {
     "data": {
      "text/html": [
       "<div>\n",
       "<style scoped>\n",
       "    .dataframe tbody tr th:only-of-type {\n",
       "        vertical-align: middle;\n",
       "    }\n",
       "\n",
       "    .dataframe tbody tr th {\n",
       "        vertical-align: top;\n",
       "    }\n",
       "\n",
       "    .dataframe thead th {\n",
       "        text-align: right;\n",
       "    }\n",
       "</style>\n",
       "<table border=\"1\" class=\"dataframe\">\n",
       "  <thead>\n",
       "    <tr style=\"text-align: right;\">\n",
       "      <th></th>\n",
       "      <th>X</th>\n",
       "      <th>Y</th>\n",
       "      <th>Z</th>\n",
       "      <th>old_azi</th>\n",
       "      <th>dip</th>\n",
       "      <th>type</th>\n",
       "      <th>polarity</th>\n",
       "      <th>val</th>\n",
       "      <th>strike</th>\n",
       "      <th>nx</th>\n",
       "      <th>ny</th>\n",
       "      <th>nz</th>\n",
       "    </tr>\n",
       "  </thead>\n",
       "  <tbody>\n",
       "    <tr>\n",
       "      <th>0</th>\n",
       "      <td>537479.487628</td>\n",
       "      <td>7.491876e+06</td>\n",
       "      <td>478</td>\n",
       "      <td>NaN</td>\n",
       "      <td>NaN</td>\n",
       "      <td>Fault_5475</td>\n",
       "      <td>NaN</td>\n",
       "      <td>0.0</td>\n",
       "      <td>NaN</td>\n",
       "      <td>NaN</td>\n",
       "      <td>NaN</td>\n",
       "      <td>NaN</td>\n",
       "    </tr>\n",
       "    <tr>\n",
       "      <th>1</th>\n",
       "      <td>540207.945575</td>\n",
       "      <td>7.490607e+06</td>\n",
       "      <td>565</td>\n",
       "      <td>NaN</td>\n",
       "      <td>NaN</td>\n",
       "      <td>Fault_5475</td>\n",
       "      <td>NaN</td>\n",
       "      <td>0.0</td>\n",
       "      <td>NaN</td>\n",
       "      <td>NaN</td>\n",
       "      <td>NaN</td>\n",
       "      <td>NaN</td>\n",
       "    </tr>\n",
       "    <tr>\n",
       "      <th>2</th>\n",
       "      <td>540639.121395</td>\n",
       "      <td>7.490337e+06</td>\n",
       "      <td>539</td>\n",
       "      <td>NaN</td>\n",
       "      <td>NaN</td>\n",
       "      <td>Fault_5475</td>\n",
       "      <td>NaN</td>\n",
       "      <td>0.0</td>\n",
       "      <td>NaN</td>\n",
       "      <td>NaN</td>\n",
       "      <td>NaN</td>\n",
       "      <td>NaN</td>\n",
       "    </tr>\n",
       "    <tr>\n",
       "      <th>3</th>\n",
       "      <td>541239.639831</td>\n",
       "      <td>7.489577e+06</td>\n",
       "      <td>589</td>\n",
       "      <td>NaN</td>\n",
       "      <td>NaN</td>\n",
       "      <td>Fault_5475</td>\n",
       "      <td>NaN</td>\n",
       "      <td>0.0</td>\n",
       "      <td>NaN</td>\n",
       "      <td>NaN</td>\n",
       "      <td>NaN</td>\n",
       "      <td>NaN</td>\n",
       "    </tr>\n",
       "    <tr>\n",
       "      <th>4</th>\n",
       "      <td>570368.812387</td>\n",
       "      <td>7.496846e+06</td>\n",
       "      <td>695</td>\n",
       "      <td>NaN</td>\n",
       "      <td>NaN</td>\n",
       "      <td>Fault_12644</td>\n",
       "      <td>NaN</td>\n",
       "      <td>0.0</td>\n",
       "      <td>NaN</td>\n",
       "      <td>NaN</td>\n",
       "      <td>NaN</td>\n",
       "      <td>NaN</td>\n",
       "    </tr>\n",
       "    <tr>\n",
       "      <th>...</th>\n",
       "      <td>...</td>\n",
       "      <td>...</td>\n",
       "      <td>...</td>\n",
       "      <td>...</td>\n",
       "      <td>...</td>\n",
       "      <td>...</td>\n",
       "      <td>...</td>\n",
       "      <td>...</td>\n",
       "      <td>...</td>\n",
       "      <td>...</td>\n",
       "      <td>...</td>\n",
       "      <td>...</td>\n",
       "    </tr>\n",
       "    <tr>\n",
       "      <th>3000</th>\n",
       "      <td>548806.299615</td>\n",
       "      <td>7.491074e+06</td>\n",
       "      <td>588</td>\n",
       "      <td>NaN</td>\n",
       "      <td>NaN</td>\n",
       "      <td>P__HAj_xci_od</td>\n",
       "      <td>NaN</td>\n",
       "      <td>NaN</td>\n",
       "      <td>NaN</td>\n",
       "      <td>NaN</td>\n",
       "      <td>NaN</td>\n",
       "      <td>NaN</td>\n",
       "    </tr>\n",
       "    <tr>\n",
       "      <th>3001</th>\n",
       "      <td>551886.299490</td>\n",
       "      <td>7.491661e+06</td>\n",
       "      <td>663</td>\n",
       "      <td>NaN</td>\n",
       "      <td>NaN</td>\n",
       "      <td>P__HAj_xci_od</td>\n",
       "      <td>NaN</td>\n",
       "      <td>NaN</td>\n",
       "      <td>NaN</td>\n",
       "      <td>NaN</td>\n",
       "      <td>NaN</td>\n",
       "      <td>NaN</td>\n",
       "    </tr>\n",
       "    <tr>\n",
       "      <th>3002</th>\n",
       "      <td>556799.610022</td>\n",
       "      <td>7.491734e+06</td>\n",
       "      <td>704</td>\n",
       "      <td>NaN</td>\n",
       "      <td>NaN</td>\n",
       "      <td>P__HAj_xci_od</td>\n",
       "      <td>NaN</td>\n",
       "      <td>NaN</td>\n",
       "      <td>NaN</td>\n",
       "      <td>NaN</td>\n",
       "      <td>NaN</td>\n",
       "      <td>NaN</td>\n",
       "    </tr>\n",
       "    <tr>\n",
       "      <th>3003</th>\n",
       "      <td>562519.638375</td>\n",
       "      <td>7.492724e+06</td>\n",
       "      <td>603</td>\n",
       "      <td>NaN</td>\n",
       "      <td>NaN</td>\n",
       "      <td>P__HAj_xci_od</td>\n",
       "      <td>NaN</td>\n",
       "      <td>NaN</td>\n",
       "      <td>NaN</td>\n",
       "      <td>NaN</td>\n",
       "      <td>NaN</td>\n",
       "      <td>NaN</td>\n",
       "    </tr>\n",
       "    <tr>\n",
       "      <th>3004</th>\n",
       "      <td>567707.898415</td>\n",
       "      <td>7.492797e+06</td>\n",
       "      <td>782</td>\n",
       "      <td>NaN</td>\n",
       "      <td>NaN</td>\n",
       "      <td>P__HAj_xci_od</td>\n",
       "      <td>NaN</td>\n",
       "      <td>NaN</td>\n",
       "      <td>NaN</td>\n",
       "      <td>NaN</td>\n",
       "      <td>NaN</td>\n",
       "      <td>NaN</td>\n",
       "    </tr>\n",
       "  </tbody>\n",
       "</table>\n",
       "<p>3005 rows × 12 columns</p>\n",
       "</div>"
      ],
      "text/plain": [
       "                  X             Y    Z  old_azi  dip           type  polarity  \\\n",
       "0     537479.487628  7.491876e+06  478      NaN  NaN     Fault_5475       NaN   \n",
       "1     540207.945575  7.490607e+06  565      NaN  NaN     Fault_5475       NaN   \n",
       "2     540639.121395  7.490337e+06  539      NaN  NaN     Fault_5475       NaN   \n",
       "3     541239.639831  7.489577e+06  589      NaN  NaN     Fault_5475       NaN   \n",
       "4     570368.812387  7.496846e+06  695      NaN  NaN    Fault_12644       NaN   \n",
       "...             ...           ...  ...      ...  ...            ...       ...   \n",
       "3000  548806.299615  7.491074e+06  588      NaN  NaN  P__HAj_xci_od       NaN   \n",
       "3001  551886.299490  7.491661e+06  663      NaN  NaN  P__HAj_xci_od       NaN   \n",
       "3002  556799.610022  7.491734e+06  704      NaN  NaN  P__HAj_xci_od       NaN   \n",
       "3003  562519.638375  7.492724e+06  603      NaN  NaN  P__HAj_xci_od       NaN   \n",
       "3004  567707.898415  7.492797e+06  782      NaN  NaN  P__HAj_xci_od       NaN   \n",
       "\n",
       "      val  strike  nx  ny  nz  \n",
       "0     0.0     NaN NaN NaN NaN  \n",
       "1     0.0     NaN NaN NaN NaN  \n",
       "2     0.0     NaN NaN NaN NaN  \n",
       "3     0.0     NaN NaN NaN NaN  \n",
       "4     0.0     NaN NaN NaN NaN  \n",
       "...   ...     ...  ..  ..  ..  \n",
       "3000  NaN     NaN NaN NaN NaN  \n",
       "3001  NaN     NaN NaN NaN NaN  \n",
       "3002  NaN     NaN NaN NaN NaN  \n",
       "3003  NaN     NaN NaN NaN NaN  \n",
       "3004  NaN     NaN NaN NaN NaN  \n",
       "\n",
       "[3005 rows x 12 columns]"
      ]
     },
     "execution_count": 31,
     "metadata": {},
     "output_type": "execute_result"
    }
   ],
   "source": [
    "data = data.rename(columns={'formation':'type','azimuth':'old_azi','strke':'Strike'})\n",
    "# data['type'] = np.nan\n",
    "for o in order:\n",
    "    data.loc[data['type']==o,'type'] = 's0'\n",
    "data \n",
    "data"
   ]
  },
  {
   "cell_type": "markdown",
   "metadata": {},
   "source": [
    "### Define the model bounding box"
   ]
  },
  {
   "cell_type": "code",
   "execution_count": 32,
   "metadata": {
    "ExecuteTime": {
     "end_time": "2020-02-05T04:32:57.346313Z",
     "start_time": "2020-02-05T04:32:57.342828Z"
    }
   },
   "outputs": [],
   "source": [
    "boundary_points = np.zeros((2,3))\n",
    "boundary_points[0,0] = 500000.0000000026#origin[0]#-1000#-10 #np.min(coords[:,0])-10\n",
    "boundary_points[0,1] = 7454093.693147668#origin[1]#-1000#-10 #np.min(coords[:,1])\n",
    "boundary_points[0,2] = -20000#origin[2]#-4500#-5000#0#-40#minz\n",
    "boundary_points[1,0] = 605065.8521#maximum[0]#10000#10000 #np.max(coords[:,0])\n",
    "boundary_points[1,1] = 7567173.042479938#maximum[1]#10000#12000 #np.max(coords[:,1])\n",
    "boundary_points[1,2] = 1500#maximum[2]#500#500#-50000#-minz*0.1"
   ]
  },
  {
   "cell_type": "markdown",
   "metadata": {},
   "source": [
    "### Create model and link data "
   ]
  },
  {
   "cell_type": "code",
   "execution_count": 33,
   "metadata": {
    "ExecuteTime": {
     "end_time": "2020-02-05T04:32:57.361781Z",
     "start_time": "2020-02-05T04:32:57.347428Z"
    }
   },
   "outputs": [],
   "source": [
    "faults = []\n",
    "model = GeologicalModel(boundary_points[0,:],boundary_points[1,:])\n",
    "model.set_model_data(data)"
   ]
  },
  {
   "cell_type": "code",
   "execution_count": 34,
   "metadata": {
    "ExecuteTime": {
     "end_time": "2020-02-05T04:32:57.375584Z",
     "start_time": "2020-02-05T04:32:57.363173Z"
    }
   },
   "outputs": [
    {
     "data": {
      "text/plain": [
       "0          Fault_5475\n",
       "1          Fault_5475\n",
       "2          Fault_5475\n",
       "3          Fault_5475\n",
       "4         Fault_12644\n",
       "            ...      \n",
       "3000    P__HAj_xci_od\n",
       "3001    P__HAj_xci_od\n",
       "3002    P__HAj_xci_od\n",
       "3003    P__HAj_xci_od\n",
       "3004    P__HAj_xci_od\n",
       "Name: type, Length: 3005, dtype: object"
      ]
     },
     "execution_count": 34,
     "metadata": {},
     "output_type": "execute_result"
    }
   ],
   "source": [
    "model.data['type']"
   ]
  },
  {
   "cell_type": "markdown",
   "metadata": {},
   "source": [
    "### Use fault length to scale fault frame coordinates\n",
    "We want the distance between -1 and 1 of the major coordinate (fault surface field) to be 1/3 of the length of the fault. This is an arbitary choice and could be changed."
   ]
  },
  {
   "cell_type": "code",
   "execution_count": 36,
   "metadata": {
    "ExecuteTime": {
     "end_time": "2020-02-05T04:32:57.523897Z",
     "start_time": "2020-02-05T04:32:57.376996Z"
    },
    "scrolled": false
   },
   "outputs": [],
   "source": [
    "for f in fault_names:\n",
    "    fault_data =  model.data[np.logical_and(model.data['type'] == f,~np.isnan(model.data['val']))].reset_index(drop=True)\n",
    "    if fault_data.shape[0] > 0:\n",
    "        fault_length = fault_data.loc[0,['X','Y','Z']].to_numpy()-fault_data.loc[len(fault_data)-1,['X','Y','Z']].to_numpy()\n",
    "        fault_length = np.linalg.norm(fault_length)\n",
    "        fault_length*=0.15\n",
    "        model.data.loc[model.data['type']==f,['nx','ny','nz']] /= fault_length\n",
    "        #print(fault_length)"
   ]
  },
  {
   "cell_type": "markdown",
   "metadata": {},
   "source": [
    "### Add fault to the model\n",
    "Iterate over the list of faults and add faults to the model. Check which faults have overprinting relationships and add this using the `overprints` kwarg "
   ]
  },
  {
   "cell_type": "code",
   "execution_count": 37,
   "metadata": {
    "ExecuteTime": {
     "end_time": "2020-02-05T04:33:03.427077Z",
     "start_time": "2020-02-05T04:32:57.525390Z"
    },
    "scrolled": false
   },
   "outputs": [
    {
     "name": "stdout",
     "output_type": "stream",
     "text": [
      "No entry for Fault_5298 in fault_fault_relations\n",
      "No entry for Fault_1236 in fault_fault_relations\n",
      "No entry for Fault_2689 in fault_fault_relations\n",
      "No entry for Fault_2688 in fault_fault_relations\n",
      "No entry for Fault_14378 in fault_fault_relations\n"
     ]
    },
    {
     "name": "stderr",
     "output_type": "stream",
     "text": [
      "c:\\users\\lgrose\\.conda\\envs\\loop\\lib\\site-packages\\pyamg\\util\\linalg.py:548: RuntimeWarning: invalid value encountered in true_divide\n",
      "  diff = float(np.abs(xAy - xAty) / np.sqrt(np.abs(xAy*xAty)))\n",
      "c:\\users\\lgrose\\.conda\\envs\\loop\\lib\\site-packages\\pyamg\\krylov\\_gmres_householder.py:151: UserWarning: Setting number of inner iterations (maxiter) to maximum                   allowed, which is A.shape[0] \n",
      "  allowed, which is A.shape[0] ')\n",
      "c:\\users\\lgrose\\.conda\\envs\\loop\\lib\\site-packages\\pyamg\\util\\linalg.py:548: RuntimeWarning: invalid value encountered in true_divide\n",
      "  diff = float(np.abs(xAy - xAty) / np.sqrt(np.abs(xAy*xAty)))\n",
      "c:\\users\\lgrose\\.conda\\envs\\loop\\lib\\site-packages\\pyamg\\krylov\\_gmres_householder.py:151: UserWarning: Setting number of inner iterations (maxiter) to maximum                   allowed, which is A.shape[0] \n",
      "  allowed, which is A.shape[0] ')\n",
      "c:\\users\\lgrose\\.conda\\envs\\loop\\lib\\site-packages\\pyamg\\util\\linalg.py:548: RuntimeWarning: invalid value encountered in true_divide\n",
      "  diff = float(np.abs(xAy - xAty) / np.sqrt(np.abs(xAy*xAty)))\n",
      "c:\\users\\lgrose\\.conda\\envs\\loop\\lib\\site-packages\\pyamg\\krylov\\_gmres_householder.py:151: UserWarning: Setting number of inner iterations (maxiter) to maximum                   allowed, which is A.shape[0] \n",
      "  allowed, which is A.shape[0] ')\n"
     ]
    },
    {
     "name": "stdout",
     "output_type": "stream",
     "text": [
      "No entry for Fault_8973 in fault_fault_relations\n",
      "No entry for Fault_16739 in fault_fault_relations\n"
     ]
    },
    {
     "name": "stderr",
     "output_type": "stream",
     "text": [
      "c:\\users\\lgrose\\.conda\\envs\\loop\\lib\\site-packages\\pyamg\\util\\linalg.py:548: RuntimeWarning: invalid value encountered in true_divide\n",
      "  diff = float(np.abs(xAy - xAty) / np.sqrt(np.abs(xAy*xAty)))\n",
      "c:\\users\\lgrose\\.conda\\envs\\loop\\lib\\site-packages\\pyamg\\krylov\\_gmres_householder.py:151: UserWarning: Setting number of inner iterations (maxiter) to maximum                   allowed, which is A.shape[0] \n",
      "  allowed, which is A.shape[0] ')\n",
      "c:\\users\\lgrose\\.conda\\envs\\loop\\lib\\site-packages\\pyamg\\util\\linalg.py:548: RuntimeWarning: invalid value encountered in true_divide\n",
      "  diff = float(np.abs(xAy - xAty) / np.sqrt(np.abs(xAy*xAty)))\n",
      "c:\\users\\lgrose\\.conda\\envs\\loop\\lib\\site-packages\\pyamg\\krylov\\_gmres_householder.py:151: UserWarning: Setting number of inner iterations (maxiter) to maximum                   allowed, which is A.shape[0] \n",
      "  allowed, which is A.shape[0] ')\n",
      "c:\\users\\lgrose\\.conda\\envs\\loop\\lib\\site-packages\\pyamg\\util\\linalg.py:548: RuntimeWarning: invalid value encountered in true_divide\n",
      "  diff = float(np.abs(xAy - xAty) / np.sqrt(np.abs(xAy*xAty)))\n",
      "c:\\users\\lgrose\\.conda\\envs\\loop\\lib\\site-packages\\pyamg\\krylov\\_gmres_householder.py:151: UserWarning: Setting number of inner iterations (maxiter) to maximum                   allowed, which is A.shape[0] \n",
      "  allowed, which is A.shape[0] ')\n"
     ]
    },
    {
     "name": "stdout",
     "output_type": "stream",
     "text": [
      "No entry for Fault_6519 in fault_fault_relations\n",
      "No entry for Fault_10762 in fault_fault_relations\n",
      "No entry for Fault_7099 in fault_fault_relations\n"
     ]
    }
   ],
   "source": [
    "for f in fault_names:\n",
    "    if model.data[model.data['type'] == f].shape[0] == 0:\n",
    "        continue\n",
    "    fault_id = f[6:]\n",
    "    overprints = []\n",
    "    try:\n",
    "        overprint_id = fault_fault_relations[fault_fault_relations[fault_id] == 1]['fault_id'].to_numpy()\n",
    "        for i in overprint_id:\n",
    "            overprints.append(['Fault_%i'%i])\n",
    "    except:\n",
    "        print('No entry for %s in fault_fault_relations'%f)\n",
    "#     continue\n",
    "    faults.append(model.create_and_add_fault(f,\n",
    "                                             np.max(np.abs(displacements[displacements['fname']==f]['vertical_displacement'].to_numpy()))*2,\n",
    "                                             faultfunction=BaseFault.fault_displacement,\n",
    "                                                 interpolatortype='PLI',\n",
    "                                                 nelements=1e4,\n",
    "                                                 data_region=.5,\n",
    "#                                                  regularisation=[1,1,1],\n",
    "                                                 solver='pyamg',\n",
    "                                                 damp=True,\n",
    "                                                 buffer=0.1,\n",
    "                                                 steps=1,\n",
    "                                             overprints=overprints\n",
    "#                                              gpw=100\n",
    "                                                )\n",
    "                 )\n",
    "    "
   ]
  },
  {
   "cell_type": "code",
   "execution_count": null,
   "metadata": {
    "ExecuteTime": {
     "end_time": "2020-02-05T04:33:32.640017Z",
     "start_time": "2020-02-05T04:33:03.429766Z"
    }
   },
   "outputs": [
    {
     "name": "stderr",
     "output_type": "stream",
     "text": [
      "c:\\users\\lgrose\\.conda\\envs\\loop\\lib\\site-packages\\LoopStructural\\visualisation\\model_visualisation.py:145: RuntimeWarning: Mean of empty slice\n",
      "  mean_property_val = np.nanmean(val)#geological_feature.mean()\n",
      "c:\\users\\lgrose\\.conda\\envs\\loop\\lib\\site-packages\\LoopStructural\\visualisation\\model_visualisation.py:146: RuntimeWarning: All-NaN slice encountered\n",
      "  min_property_val = np.nanmin(val)#geological_feature.min()\n",
      "c:\\users\\lgrose\\.conda\\envs\\loop\\lib\\site-packages\\LoopStructural\\visualisation\\model_visualisation.py:147: RuntimeWarning: All-NaN slice encountered\n",
      "  max_property_val = np.nanmax(val)#geological_feature.max()\n",
      "c:\\users\\lgrose\\.conda\\envs\\loop\\lib\\site-packages\\LoopStructural\\visualisation\\model_visualisation.py:182: RuntimeWarning: All-NaN slice encountered\n",
      "  if isovalue > np.nanmax(val) or isovalue < np.nanmin(val):\n",
      "c:\\users\\lgrose\\.conda\\envs\\loop\\lib\\site-packages\\skimage\\measure\\_marching_cubes_lewiner.py:134: RuntimeWarning: invalid value encountered in greater\n",
      "  if level < volume.min() or level > volume.max():\n",
      "c:\\users\\lgrose\\.conda\\envs\\loop\\lib\\site-packages\\skimage\\measure\\_marching_cubes_lewiner.py:134: RuntimeWarning: invalid value encountered in less\n",
      "  if level < volume.min() or level > volume.max():\n",
      "c:\\users\\lgrose\\.conda\\envs\\loop\\lib\\site-packages\\LoopStructural\\supports\\structured_tetra.py:449: RuntimeWarning: invalid value encountered in floor_divide\n",
      "  ix = ix // self.step_vector[None, 0]\n",
      "c:\\users\\lgrose\\.conda\\envs\\loop\\lib\\site-packages\\LoopStructural\\supports\\structured_tetra.py:450: RuntimeWarning: invalid value encountered in floor_divide\n",
      "  iy = iy // self.step_vector[None, 1]\n",
      "c:\\users\\lgrose\\.conda\\envs\\loop\\lib\\site-packages\\LoopStructural\\supports\\structured_tetra.py:451: RuntimeWarning: invalid value encountered in floor_divide\n",
      "  iz = iz // self.step_vector[None, 2]\n",
      "c:\\users\\lgrose\\.conda\\envs\\loop\\lib\\site-packages\\LoopStructural\\supports\\structured_tetra.py:171: RuntimeWarning: invalid value encountered in greater\n",
      "  mask = np.all(c > 0, axis=2)\n",
      "c:\\users\\lgrose\\.conda\\envs\\loop\\lib\\site-packages\\LoopStructural\\supports\\structured_tetra.py:349: RuntimeWarning: invalid value encountered in greater\n",
      "  inside *= pos[:, i] > self.origin[None, i]\n",
      "c:\\users\\lgrose\\.conda\\envs\\loop\\lib\\site-packages\\LoopStructural\\supports\\structured_tetra.py:351: RuntimeWarning: invalid value encountered in less\n",
      "  self.step_vector[None, i] * self.nsteps_cells[None, i]\n",
      "c:\\users\\lgrose\\.conda\\envs\\loop\\lib\\site-packages\\LoopStructural\\modelling\\fault\\fault_function.py:62: RuntimeWarning: invalid value encountered in greater\n",
      "  r[v > 0] = self.positive(v[v > 0])\n",
      "c:\\users\\lgrose\\.conda\\envs\\loop\\lib\\site-packages\\LoopStructural\\modelling\\fault\\fault_function.py:63: RuntimeWarning: invalid value encountered in less\n",
      "  r[v < 0] = self.negative(v[v < 0])\n",
      "c:\\users\\lgrose\\.conda\\envs\\loop\\lib\\site-packages\\LoopStructural\\modelling\\fault\\fault_function.py:47: RuntimeWarning: invalid value encountered in greater\n",
      "  2] * self.max_v + self.w[3]\n",
      "c:\\users\\lgrose\\.conda\\envs\\loop\\lib\\site-packages\\LoopStructural\\modelling\\fault\\fault_function.py:50: RuntimeWarning: invalid value encountered in less\n",
      "  2] * self.min_v + self.w[3]\n"
     ]
    }
   ],
   "source": [
    "viewer = LavaVuModelViewer(model)\n",
    "viewer.nsteps = np.array([100,100,100])\n",
    "viewer.add_section(None,value=0,colour='white')\n",
    "viewer.add_section(None,axis='y',value=0,colour='white')\n",
    "\n",
    "for f in faults:\n",
    "    try:\n",
    "#     print(f['feature'].name)\n",
    "#     print(f['feature'])\n",
    "        viewer.add_isosurface(f['feature'][0],\n",
    "#                               slices=[-1,0,1],\n",
    "                            paint_with=f['feature'].displacementfeature,\n",
    "\n",
    "                              isovalue=0\n",
    "                             )\n",
    "#         viewer.add_isosurface(f['feature'][1],\n",
    "#                               slices=[-1,0,1],\n",
    "#                             paint_with=f['feature'].displacementfeature\n",
    "\n",
    "# #                               isovalue=0\n",
    "#                              )\n",
    "#         viewer.add_isosurface(f['feature'][2],\n",
    "#                               slices=[-1,0,1],\n",
    "#                               paint_with=f['feature'].displacementfeature\n",
    "# #                               isovalue=0\n",
    "#                              )\n",
    "        viewer.add_data(f['feature'][0],cmap='rainbow')\n",
    "#     viewer.add_scalar_field(f['feature'].displacementfeature,\n",
    "#                           slices=[-0.01,0.01]#isovalue=0\n",
    "#                          )\n",
    "    except:\n",
    "        continue\n",
    "# viewer.add_isosurface(strati['feature'],\n",
    "# #                       nslices=10,\n",
    "#                   slices= strat_val.values(),\n",
    "# #                     voxet={'bounding_box':boundary_points,'nsteps':(100,100,50)},\n",
    "#                   paint_with=strati['feature'],\n",
    "#                   cmap='tab20'\n",
    "\n",
    "#                  )\n",
    "# viewer.add_section(strati['feature'],'z',0)\n",
    "# viewer.add_scalar_field(strati['feature'],\n",
    "# #                       nslices=10,\n",
    "#                   slices= strat_val.values(),\n",
    "# #                     voxet={'bounding_box':boundary_points,'nsteps':(100,100,50)},\n",
    "#                   paint_with=strati['feature'],\n",
    "#                   cmap='tab20'\n",
    "\n",
    "#                  )\n",
    "#         viewer.add_isosurface(f['feature'][1],\n",
    "#                               nslices=5\n",
    "#                          )\n",
    "#         viewer.add_isosurface(f['feature'][2],\n",
    "#                               nslices=5\n",
    "#                          )\n",
    "#         # viewer.add_scalar_field(faults[0]['feature'])\n",
    "#         viewer.add_data(f['feature'][0])\n",
    "#         viewer.add_data(f['feature'][1])\n",
    "#         viewer.add_data(f['feature'][2])\n",
    "\n",
    "    \n",
    "viewer.interactive()"
   ]
  },
  {
   "cell_type": "markdown",
   "metadata": {},
   "source": [
    "### Add stratigrapy to the model and the faults will be added to this"
   ]
  },
  {
   "cell_type": "code",
   "execution_count": null,
   "metadata": {
    "ExecuteTime": {
     "end_time": "2020-02-05T04:35:50.275630Z",
     "start_time": "2020-02-05T04:33:32.642795Z"
    },
    "scrolled": false
   },
   "outputs": [],
   "source": [
    "strati = model.create_and_add_foliation('s0', #identifier in data frame\n",
    "                                                    interpolatortype=\"PLI\", #which interpolator to use\n",
    "                                                    nelements=1e5, # how many tetras/voxels\n",
    "                                                    buffer=0.2, # how much to extend nterpolation around box\n",
    "                                                    solver='pyamg',\n",
    "                                                    damp=True\n",
    "                                                   )\n"
   ]
  },
  {
   "cell_type": "code",
   "execution_count": null,
   "metadata": {
    "ExecuteTime": {
     "end_time": "2020-02-05T04:37:03.633905Z",
     "start_time": "2020-02-05T04:37:00.561069Z"
    },
    "scrolled": false
   },
   "outputs": [],
   "source": [
    "viewer = LavaVuModelViewer(model)\n",
    "viewer.nsteps = np.array([100,100,50])\n",
    "viewer.add_section(None,value=0,colour='white')\n",
    "viewer.add_section(None,axis='y',value=0,colour='white')\n",
    "for f in faults:\n",
    "    try:\n",
    "#     print(f['feature'].name)\n",
    "#     print(f['feature'])\n",
    "        viewer.add_isosurface(f['feature'][0],\n",
    "    #                           slices=[-1,0,1]\n",
    "                              isovalue=0\n",
    "                             )\n",
    "#     viewer.add_scalar_field(f['feature'].displacementfeature,\n",
    "#                           slices=[-0.01,0.01]#isovalue=0\n",
    "#                          )\n",
    "    except:\n",
    "        continue\n",
    "# viewer.add_isosurface(strati['feature'],\n",
    "# #                       nslices=10,\n",
    "#                   slices= strat_val.values(),\n",
    "# #                     voxet={'bounding_box':boundary_points,'nsteps':(100,100,50)},\n",
    "#                   paint_with=strati['feature'],\n",
    "#                   cmap='tab20'\n",
    "\n",
    "#                  )\n",
    "viewer.add_section(strati['feature'],'z',.10,cmap='tab20')\n",
    "# viewer.add_scalar_field(strati['feature'],\n",
    "# #                       nslices=10,\n",
    "#                   slices= strat_val.values(),\n",
    "# #                     voxet={'bounding_box':boundary_points,'nsteps':(100,100,50)},\n",
    "#                   paint_with=strati['feature'],\n",
    "#                   cmap='tab20'\n",
    "\n",
    "#                  )\n",
    "#         viewer.add_isosurface(f['feature'][1],\n",
    "#                               nslices=5\n",
    "#                          )\n",
    "#         viewer.add_isosurface(f['feature'][2],\n",
    "#                               nslices=5\n",
    "#                          )\n",
    "#         # viewer.add_scalar_field(faults[0]['feature'])\n",
    "#         viewer.add_data(f['feature'][0])\n",
    "#         viewer.add_data(f['feature'][1])\n",
    "#         viewer.add_data(f['feature'][2])\n",
    "\n",
    "    \n",
    "viewer.interactive()"
   ]
  },
  {
   "cell_type": "code",
   "execution_count": null,
   "metadata": {},
   "outputs": [],
   "source": [
    "viewer.display()"
   ]
  },
  {
   "cell_type": "code",
   "execution_count": null,
   "metadata": {
    "ExecuteTime": {
     "end_time": "2020-02-05T04:37:36.244505Z",
     "start_time": "2020-02-05T04:37:10.934452Z"
    },
    "scrolled": false
   },
   "outputs": [],
   "source": [
    "viewer = LavaVuModelViewer(model)\n",
    "viewer.nsteps = np.array([100,100,100])\n",
    "viewer.add_section(None,value=0,colour='white')\n",
    "viewer.add_section(None,axis='y',value=0,colour='white')\n",
    "for f in faults:\n",
    "    try:\n",
    "#     print(f['feature'].name)\n",
    "#     print(f['feature'])\n",
    "        viewer.add_isosurface(f['feature'][0],\n",
    "    #                           slices=[-1,0,1]\n",
    "                              isovalue=0\n",
    "                             )\n",
    "#     viewer.add_scalar_field(f['feature'].displacementfeature,\n",
    "#                           slices=[-0.01,0.01]#isovalue=0\n",
    "#                          )\n",
    "    except:\n",
    "        continue\n",
    "viewer.add_isosurface(strati['feature'],\n",
    "#                       nslices=10,\n",
    "                  slices= strat_val.values(),\n",
    "#                     voxet={'bounding_box':boundary_points,'nsteps':(100,100,50)},\n",
    "                  paint_with=strati['feature'],\n",
    "                  cmap='tab20'\n",
    "\n",
    "                 )\n",
    "\n",
    "#         viewer.add_isosurface(f['feature'][1],\n",
    "#                               nslices=5\n",
    "#                          )\n",
    "#         viewer.add_isosurface(f['feature'][2],\n",
    "#                               nslices=5\n",
    "#                          )\n",
    "#         # viewer.add_scalar_field(faults[0]['feature'])\n",
    "#         viewer.add_data(f['feature'][0])\n",
    "#         viewer.add_data(f['feature'][1])\n",
    "#         viewer.add_data(f['feature'][2])\n",
    "\n",
    "    \n",
    "viewer.interactive()"
   ]
  },
  {
   "cell_type": "code",
   "execution_count": null,
   "metadata": {},
   "outputs": [],
   "source": [
    "viewer.lv.image('images\\m2l.png')"
   ]
  },
  {
   "cell_type": "code",
   "execution_count": null,
   "metadata": {
    "scrolled": false
   },
   "outputs": [],
   "source": [
    "from LoopStructural.visualisation import MapView\n",
    "map_view = MapView(model)\n",
    "for f in faults:\n",
    "#     print(f['feature'][0]))\n",
    "    map_view.add_data(f['feature'][0],scale=0.02,point_colour='k',size=1)\n",
    "map_view.add_data(strati['feature'],scale=0.01,cmap='tab20')"
   ]
  }
 ],
 "metadata": {
  "kernelspec": {
   "display_name": "Python 3",
   "language": "python",
   "name": "python3"
  },
  "language_info": {
   "codemirror_mode": {
    "name": "ipython",
    "version": 3
   },
   "file_extension": ".py",
   "mimetype": "text/x-python",
   "name": "python",
   "nbconvert_exporter": "python",
   "pygments_lexer": "ipython3",
   "version": "3.7.4"
  },
  "varInspector": {
   "cols": {
    "lenName": 16,
    "lenType": 16,
    "lenVar": 40
   },
   "kernels_config": {
    "python": {
     "delete_cmd_postfix": "",
     "delete_cmd_prefix": "del ",
     "library": "var_list.py",
     "varRefreshCmd": "print(var_dic_list())"
    },
    "r": {
     "delete_cmd_postfix": ") ",
     "delete_cmd_prefix": "rm(",
     "library": "var_list.r",
     "varRefreshCmd": "cat(var_dic_list()) "
    }
   },
   "types_to_exclude": [
    "module",
    "function",
    "builtin_function_or_method",
    "instance",
    "_Feature"
   ],
   "window_display": false
  }
 },
 "nbformat": 4,
 "nbformat_minor": 2
}
