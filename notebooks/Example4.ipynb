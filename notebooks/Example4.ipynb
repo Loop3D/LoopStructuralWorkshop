{
 "cells": [
  {
   "cell_type": "markdown",
   "metadata": {},
   "source": [
    "<img src=\"images/banner.png\" alt=\"Folded outcrop\" />"
   ]
  },
  {
   "cell_type": "code",
   "execution_count": null,
   "metadata": {
    "ExecuteTime": {
     "end_time": "2019-11-13T21:13:34.044181Z",
     "start_time": "2019-11-13T21:13:33.273833Z"
    }
   },
   "outputs": [],
   "source": [
    "from LoopStructural import GeologicalModel\n",
    "from LoopStructural.visualisation import LavaVuModelViewer\n",
    "from LoopStructural.datasets import load_intrusion\n",
    "import pandas as pd \n",
    "import numpy as np\n",
    "import matplotlib.pyplot as plt\n",
    "%matplotlib inline"
   ]
  },
  {
   "cell_type": "code",
   "execution_count": null,
   "metadata": {},
   "outputs": [],
   "source": [
    "from __future__ import print_function\n",
    "from ipywidgets import interact, interactive, fixed, interact_manual\n",
    "import ipywidgets as widgets"
   ]
  },
  {
   "cell_type": "code",
   "execution_count": null,
   "metadata": {
    "ExecuteTime": {
     "end_time": "2019-11-13T21:13:34.528978Z",
     "start_time": "2019-11-13T21:13:34.520690Z"
    }
   },
   "outputs": [],
   "source": [
    "data, bb = load_intrusion()\n",
    "rotation = [-63.2095947265625, -89.34538269042969, -11.141488075256348]"
   ]
  },
  {
   "cell_type": "markdown",
   "metadata": {},
   "source": [
    "### Modelling faults using structural frames\n",
    "Standard implicit modelling techniques either treat faults as domain boundaries or use a step function in the implicit function to capture the displacement in the faulted surface.\n",
    "\n",
    "Adding faults into the implicit function using step functions is limited because this does not capture the kinematics of the fault. It effectively defines the fault displacement by adding a value to the scalar field on the hanging wall of the fault. In the example below a 2-D ellipsoidal function is combined with a step function to show how the resulting geometry results in a shrinking shape. This would be representative of modelling an intrusion."
   ]
  },
  {
   "cell_type": "code",
   "execution_count": null,
   "metadata": {},
   "outputs": [],
   "source": [
    "intrusion = lambda x,y: (x*2)**2+(y**2)\n",
    "x = np.linspace(-10,10,100)\n",
    "y = np.linspace(-10,10,100)\n",
    "xx, yy = np.meshgrid(x,y)\n",
    "fault = np.zeros(xx.shape)\n",
    "fault[yy>0] = 50\n",
    "val = intrusion(xx,yy)+fault\n"
   ]
  },
  {
   "cell_type": "code",
   "execution_count": null,
   "metadata": {},
   "outputs": [],
   "source": [
    "plt.contourf(val)"
   ]
  },
  {
   "cell_type": "markdown",
   "metadata": {},
   "source": [
    "LoopStructural applies structural frames to the fault geometry to capture the geometry and kinematics of the fault. A fault frame consisting of the fault surface, fault slip direction and fault extent are built from observations. The geometry of the deformed surface is then interpolated by first restoring the observations by combining the fault frame and an expected displacement model. "
   ]
  },
  {
   "cell_type": "code",
   "execution_count": null,
   "metadata": {
    "ExecuteTime": {
     "end_time": "2019-11-13T21:13:55.081826Z",
     "start_time": "2019-11-13T21:13:35.792663Z"
    }
   },
   "outputs": [],
   "source": [
    "model = GeologicalModel(bb[0,:],bb[1,:])\n",
    "model.set_model_data(data)\n",
    "fault = model.create_and_add_fault('fault',\n",
    "                                   500,\n",
    "                                   nelements=10000,\n",
    "                                   steps=4,\n",
    "                                   interpolatortype='PLI',\n",
    "                                  buffer=0.3)"
   ]
  },
  {
   "cell_type": "code",
   "execution_count": null,
   "metadata": {
    "ExecuteTime": {
     "end_time": "2019-11-13T21:52:32.382677Z",
     "start_time": "2019-11-13T21:52:30.412203Z"
    },
    "scrolled": false
   },
   "outputs": [],
   "source": [
    "viewer = LavaVuModelViewer(model)\n",
    "viewer.add_isosurface(fault,\n",
    "                      isovalue=0\n",
    "#                       slices=[0,1]#nslices=10\n",
    "                     )\n",
    "xyz = model.data[model.data['feature_name']=='strati'][['X','Y','Z']].to_numpy()\n",
    "xyz = xyz[fault.evaluate(xyz),:]\n",
    "viewer.add_vector_field(fault, locations= xyz)\n",
    "viewer.add_points(model.data[model.data['feature_name']=='strati'][['X','Y','Z']],name='prefault')\n",
    "viewer.rotation = rotation\n",
    "viewer.interactive()"
   ]
  },
  {
   "cell_type": "markdown",
   "metadata": {},
   "source": [
    "Use the slider to determine the appropriate displacement to \"unfault\" the points"
   ]
  },
  {
   "cell_type": "code",
   "execution_count": null,
   "metadata": {},
   "outputs": [],
   "source": [
    "model = GeologicalModel(bb[0,:],bb[1,:])\n",
    "model.set_model_data(data)\n",
    "fault = model.create_and_add_fault('fault',\n",
    "                                   0,\n",
    "                                   nelements=2000,\n",
    "                                   steps=4,\n",
    "                                   interpolatortype='PLI',\n",
    "                                  buffer=0.3)\n",
    "viewer = LavaVuModelViewer(model)\n",
    "rotation = viewer.rotation\n",
    "@interact_manual(displacement=(-1000,1000,10))\n",
    "def run(displacement):\n",
    "    viewer.clear()\n",
    "    fault.displacement = displacement/model.scale_factor\n",
    "    viewer.add_isosurface(fault,\n",
    "                          isovalue=0\n",
    "    #                       slices=[0,1]#nslices=10\n",
    "                         )\n",
    "    xyz = model.data[model.data['feature_name']=='strati'][['X','Y','Z']].to_numpy()\n",
    "    xyz = fault.apply_to_points(xyz)\n",
    "    \n",
    "    viewer.add_points(model.rescale(xyz),name='faulted',pointsize=5)\n",
    "    viewer.rotation = rotation\n",
    "    viewer.interactive()\n",
    "#     rotation = viewer.rotation"
   ]
  },
  {
   "cell_type": "code",
   "execution_count": null,
   "metadata": {},
   "outputs": [],
   "source": [
    "displacement = 500#INSERT YOUR DISPLACEMENT NUMBER HERE BEFORE #"
   ]
  },
  {
   "cell_type": "markdown",
   "metadata": {},
   "source": [
    "Add the displacement to the variable below"
   ]
  },
  {
   "cell_type": "code",
   "execution_count": null,
   "metadata": {},
   "outputs": [],
   "source": [
    "model = GeologicalModel(bb[0,:],bb[1,:])\n",
    "model.set_model_data(data)\n",
    "fault = model.create_and_add_fault('fault',\n",
    "                                   displacement,\n",
    "                                   nelements=2000,\n",
    "                                   steps=4,\n",
    "                                   interpolatortype='PLI',\n",
    "                                  buffer=0.3)\n",
    "strati = model.create_and_add_foliation('strati',nelements=30000,interpolatortype='PLI',cgw=0.03)"
   ]
  },
  {
   "cell_type": "code",
   "execution_count": null,
   "metadata": {},
   "outputs": [],
   "source": [
    "viewer = LavaVuModelViewer(model)\n",
    "viewer.add_isosurface(strati,\n",
    "                     isovalue=0)\n",
    "# viewer.add_data(model.features[0][0])\n",
    "viewer.add_data(strati)\n",
    "viewer.add_isosurface(fault,isovalue=0\n",
    "#                       slices=[0,1]#nslices=10\n",
    "                     )\n",
    "viewer.add_points(model.data[model.data['feature_name']=='strati'][['X','Y','Z']],name='prefault')\n",
    "viewer.rotation = rotation\n",
    "viewer.interactive()"
   ]
  },
  {
   "cell_type": "code",
   "execution_count": null,
   "metadata": {},
   "outputs": [],
   "source": []
  }
 ],
 "metadata": {
  "kernelspec": {
   "display_name": "Python 3",
   "language": "python",
   "name": "python3"
  },
  "language_info": {
   "codemirror_mode": {
    "name": "ipython",
    "version": 3
   },
   "file_extension": ".py",
   "mimetype": "text/x-python",
   "name": "python",
   "nbconvert_exporter": "python",
   "pygments_lexer": "ipython3",
   "version": "3.7.9"
  },
  "varInspector": {
   "cols": {
    "lenName": 16,
    "lenType": 16,
    "lenVar": 40
   },
   "kernels_config": {
    "python": {
     "delete_cmd_postfix": "",
     "delete_cmd_prefix": "del ",
     "library": "var_list.py",
     "varRefreshCmd": "print(var_dic_list())"
    },
    "r": {
     "delete_cmd_postfix": ") ",
     "delete_cmd_prefix": "rm(",
     "library": "var_list.r",
     "varRefreshCmd": "cat(var_dic_list()) "
    }
   },
   "types_to_exclude": [
    "module",
    "function",
    "builtin_function_or_method",
    "instance",
    "_Feature"
   ],
   "window_display": false
  }
 },
 "nbformat": 4,
 "nbformat_minor": 2
}
