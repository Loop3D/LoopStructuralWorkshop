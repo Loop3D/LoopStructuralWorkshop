{
 "cells": [
  {
   "cell_type": "markdown",
   "metadata": {},
   "source": [
    "<img src=\"images/banner.png\" alt=\"Folded outcrop\" />"
   ]
  },
  {
   "cell_type": "markdown",
   "metadata": {},
   "source": [
    "## Imports"
   ]
  },
  {
   "cell_type": "code",
   "execution_count": null,
   "metadata": {
    "ExecuteTime": {
     "end_time": "2019-11-14T04:21:52.023866Z",
     "start_time": "2019-11-14T04:21:51.120054Z"
    }
   },
   "outputs": [],
   "source": [
    "from LoopStructural import GeologicalModel\n",
    "from LoopStructural.datasets import load_noddy_single_fold\n",
    "from LoopStructural.visualisation import LavaVuModelViewer, RotationAnglePlotter\n",
    "from LoopStructural.utils.helper import strike_dip_vector, plunge_and_plunge_dir_to_vector\n",
    "import pandas as pd\n",
    "import numpy as np\n",
    "from scipy.interpolate import Rbf\n",
    "import matplotlib.pyplot as plt"
   ]
  },
  {
   "cell_type": "code",
   "execution_count": null,
   "metadata": {
    "ExecuteTime": {
     "end_time": "2019-11-14T04:21:52.028051Z",
     "start_time": "2019-11-14T04:21:52.025809Z"
    }
   },
   "outputs": [],
   "source": [
    "from __future__ import print_function\n",
    "from ipywidgets import interact, interactive, fixed, interact_manual\n",
    "import ipywidgets as widgets"
   ]
  },
  {
   "cell_type": "markdown",
   "metadata": {},
   "source": [
    "## Modelling folds\n",
    "This tutorial will show how Loop Structural improves the modelling of folds by using an accurate parameterization of folds geometry. This will be done by:\n",
    "1.\tModelling folded surfaces without structural geology, i.e. using only data points and adjusting the scalar fields to those points.\n",
    "2.\tModelling folds using structural geology, which includes:\n",
    "    * Description of local fold frame and rotation angles calculation\n",
    "    * Construction of folded foliations using fold geostatistics inside the fold frame coordinate system\n"
   ]
  },
  {
   "cell_type": "markdown",
   "metadata": {},
   "source": [
    "## Structural geology of folds "
   ]
  },
  {
   "cell_type": "markdown",
   "metadata": {},
   "source": [
    "Folds are one of the most common features found in deformed rocks and are defined by the location of higher curvature. \n",
    "The geometry of the folded surface can be characterised by three geometrical elements: \n",
    "\n",
    "1. the fold hinge is the point of maximum curvature along folded surface\n",
    "2. the axial surface is a surfaces that passes through all curvature points in all folded foliations\n",
    "3. the fold axis is the intersection of the folded foliation and the axial surface\n",
    "\n",
    "Modelling folded surfaces using standard implicit algorithms is challenging because the implicit modelling methods are generally trying to minimise the resulting curvature of the surface. \n",
    "To model folded surfaces the geologist will need to characterise the geometry of the folded surface in high detail.\n",
    "\n",
    "<img src=\"images/folded_surface.png\" alt=\"Folded outcrop\" style=\"width: 400px;\"/>"
   ]
  },
  {
   "cell_type": "markdown",
   "metadata": {},
   "source": [
    "## Modelling folded surfaces without structural geology\n",
    "In the following section we will attempt to model a synthetic fold shape that is defined by a sinusoidal folded surface.\n",
    "For simplicity we will consider the fold as cylindrical and therefore only consider the fold in a 2D plane. \n",
    "The data set has been sampled from a model generated using Noddy and represents a fold with a wavelength of ~10km and amplitude of ~2km.\n",
    "\n",
    "<img src=\"images/noddy.png\" alt=\"Noddy Model\" style=\"width: 400px;\"/>\n",
    "\n",
    "The orientation of the structure has been sampled within the model volume (10km,7km,5km) at 500m intervals. \n",
    "\n",
    "\n",
    "**The aim of this exercise is to investigate how standard implicit modelling techniques are fundamentally limited when trying to model folded surfaces.**\n",
    "\n",
    "1. Load data from sample datasets\n",
    "2.  Visualise data\n",
    "3. Look at varying degrees of sampling e.g. 200 points, 100 points, 10 points. \n",
    "2. Look at using data points ONLY from a map surface\n"
   ]
  },
  {
   "cell_type": "markdown",
   "metadata": {},
   "source": [
    "### Modelling folded surfaces using loop structural"
   ]
  },
  {
   "cell_type": "code",
   "execution_count": null,
   "metadata": {
    "ExecuteTime": {
     "end_time": "2019-11-14T04:21:52.062066Z",
     "start_time": "2019-11-14T04:21:52.029273Z"
    }
   },
   "outputs": [],
   "source": [
    "# load the sample data\n",
    "data, boundary_points = load_noddy_single_fold()\n",
    "data.head()\n"
   ]
  },
  {
   "cell_type": "markdown",
   "metadata": {},
   "source": [
    "The input dataset was generated using Noddy by sampling the orientation of a structure on a regular grid. We have loaded it into a pandas DataFrame, this is basically an excel spreadsheet for python.\n",
    "Above are the first 5 rows of the dataset and as we can see it is regularly sampled with data points being sampled regularly along the $z$, $y$ and $x$ axes. In order to avoid artefacts due to the sampling errors we will shuffle the data. We can do this using the `random` column in the DataFrame (ensuring everyone has the same data)."
   ]
  },
  {
   "cell_type": "code",
   "execution_count": null,
   "metadata": {
    "ExecuteTime": {
     "end_time": "2019-11-14T04:21:52.074249Z",
     "start_time": "2019-11-14T04:21:52.063502Z"
    }
   },
   "outputs": [],
   "source": [
    "data = data.sort_values('random') # sort the data by a random int then we can select N random points \n",
    "# add single interface value for first point for surfe\n",
    "data['val'] = np.nan\n",
    "data.iloc[0,9] = 0\n",
    "data.head()\n"
   ]
  },
  {
   "cell_type": "markdown",
   "metadata": {},
   "source": [
    "The data can be visualised using the lavavu 3d viewer - by first converting from strike and dip to normal vectors. Note that there are a lot of data points to display as the model volume was regularly sampled on a grid."
   ]
  },
  {
   "cell_type": "code",
   "execution_count": null,
   "metadata": {
    "ExecuteTime": {
     "end_time": "2019-11-14T04:21:53.345567Z",
     "start_time": "2019-11-14T04:21:52.075645Z"
    }
   },
   "outputs": [],
   "source": [
    "viewer = LavaVuModelViewer()\n",
    "xyz = data[['X','Y','Z']]\n",
    "vector = strike_dip_vector(data['strike'],data['dip'])\n",
    "viewer.add_vector_data(xyz,vector,name='all_data')\n",
    "viewer.interactive()"
   ]
  },
  {
   "cell_type": "markdown",
   "metadata": {},
   "source": [
    "The data points are now randomly ordered and can now be subsampled by choosing the first N samples from the dataframe\n",
    "```Python\n",
    "data[:100]\n",
    "```\n",
    "returns the first 100 data points from the array"
   ]
  },
  {
   "cell_type": "markdown",
   "metadata": {},
   "source": [
    "### Testing data density\n",
    "* Use the toggle bar to change the amount of data used by the interpolation algorithm. \n",
    "* How does the shape of the fold change as we remove data points?\n",
    "* Now what happens if we only consider data from the map view?\n",
    "\n",
    "**HINT** you can view the strike and dip data by unchecking the scalar field box. \n",
    "\n",
    "**The black arrows are the normal vector to the folded surface**\n"
   ]
  },
  {
   "cell_type": "code",
   "execution_count": null,
   "metadata": {
    "ExecuteTime": {
     "end_time": "2019-11-14T04:21:53.379353Z",
     "start_time": "2019-11-14T04:21:53.351010Z"
    },
    "scrolled": false
   },
   "outputs": [],
   "source": [
    "@interact_manual(npoints=(1,200,1),interpolator=['PLI','Surfe'])\n",
    "def run(npoints,interpolator):\n",
    "    model = GeologicalModel(boundary_points[0,:],boundary_points[1,:])\n",
    "    model.set_model_data(data[:npoints])\n",
    "    stratigraphy = model.create_and_add_foliation(\"s0\",interpolatortype=interpolator,nelements=5000,buffer=0.3,cgw=0.1)#.2)\n",
    "    viewer = LavaVuModelViewer(model,background=\"white\")\n",
    "    # viewer.add_scalar_field(model.bounding_box,(38,55,30),\n",
    "    #                       'box',\n",
    "    #                      paint_with=stratigraphy,\n",
    "    #                      cmap='prism')\n",
    "    viewer.add_data(stratigraphy)\n",
    "    viewer.add_isosurface(stratigraphy,nslices=4)\n",
    "    viewer.interactive()"
   ]
  },
  {
   "cell_type": "markdown",
   "metadata": {},
   "source": [
    "### Modelling folds using structural geology\n",
    "\n",
    "The following section will describe how the fold axis, fold axial surface and fold vergence can be used to help constrain the shape of the folded surface.\n",
    "To do this we need to build a fold frame which is curvilinear coordinate system based around the fold axis and the fold axial surface. \n",
    "\n",
    "There are three coordinates to the fold frame:\n",
    "* coordinate 0 is the axial surface of the fold and is parallel to the axial foliation\n",
    "* coordinate 1 is the fold axis direction field and is orthogonal to the axial foliation\n",
    "* coordinate 2 is orthogonal to both the fold axis direction field and axial foliation and is roughly parallel to the extension direction of the fold \n",
    "\n",
    "<img src=\"images/fold_frame.png\" alt=\"Fold Frame\" style=\"width: 400px;\"/>\n",
    "\n",
    "Three direction vectors are defined by the normalised gradient of these fields:\n",
    "* $e_0$ - red\n",
    "* $e_1$ - green\n",
    "* $e_2$ - blue\n",
    "\n",
    "The orientation of the folded foliation can be defined by rotating $e_1$ around $e_0$ by the fold axis rotation angle $\\alpha_P$ to give the orientation of the fold axis. The orientation of the folded foliation can then be defined by rotating the plane defined by the fold axis and $e_0$ around the fold axis by the fold limb rotation angle $\\alpha_L$. \n",
    "\n",
    "<img src=\"images/fold_constraints.png\" alt=\"Fold constraints\" style=\"width: 400px;\"/>\n",
    "\n",
    "### Calculating the fold rotation angles\n",
    "The rotation angles can be calculated for observations of the folded foliation and assocaited lineations. For example, the fold axis rotation angle is found by calculating the angle between the gradient of the fold axis direction field and the intersection lineations shown in A). The fold limb rotation angle is found by finding the the angle to rotate the folded foliation to be parallel to the plane of the axial foliation shown in B and C. \n",
    "<img src=\"./images/fold_rotation_angles.png\" alt=\"Fold rotation angles\" style=\"width: 400px;\"/>"
   ]
  },
  {
   "cell_type": "code",
   "execution_count": null,
   "metadata": {
    "scrolled": false
   },
   "outputs": [],
   "source": [
    "@interact_manual(npoints=(5,200,1))\n",
    "def run(npoints=10):\n",
    "    mdata = pd.concat([data[:npoints],data[data['feature_name']=='s1']])\n",
    "    model = GeologicalModel(boundary_points[0,:],boundary_points[1,:])\n",
    "    model.set_model_data(mdata)\n",
    "    fold_frame = model.create_and_add_fold_frame('s1',\n",
    "                                                 interpolatortype='PLI',\n",
    "                                                 nelements=10000,buffer=0.5,\n",
    "                                                 solver='pyamg',\n",
    "                                                damp=True\n",
    "                                                )\n",
    "    stratigraphy = model.create_and_add_folded_foliation('s0',\n",
    "                                                   fold_frame,\n",
    "                                                    nelements=10000,\n",
    "                                                   fold_axis=[-6.51626577e-06, -5.00013645e-01, -8.66017526e-01],\n",
    "    #                                                    limb_wl=1\n",
    "                                                         buffer=0.5\n",
    "                                                        )\n",
    "    viewer = LavaVuModelViewer(model,background=\"white\")\n",
    "    # viewer.add_scalar_field(model.bounding_box,(38,55,30),\n",
    "    #                       'box',\n",
    "    #                      paint_with=stratigraphy,\n",
    "    #                      cmap='prism')\n",
    "    viewer.add_isosurface(fold_frame[0],\n",
    "                          colour='blue',\n",
    "    #                       isovalue=0.4,\n",
    "                          alpha=0.5)\n",
    "    viewer.add_data(stratigraphy)\n",
    "    viewer.add_isosurface(fold_frame[1],colour='green',alpha=0.5)\n",
    "    # viewer.add_vector_field(fold_frame['feature'][0],locations=fold_frame['feature'][0].get_interpolator().support.barycentre())\n",
    "    viewer.add_data(fold_frame[1])\n",
    "\n",
    "    # viewer.add_data(stratigraphy['feature'])\n",
    "    viewer.add_isosurface(stratigraphy)\n",
    "    viewer.interactive()\n",
    "#     plt.plot(stratigraphy['foliation'],stratigraphy['limb_rotation'],'bo')\n",
    "#     x = np.linspace(fold_frame['feature'][0].min(),fold_frame['feature'][1].max(),100)\n",
    "#     plt.plot(x,stratigraphy['fold'].fold_limb_rotation(x),'r--')\n",
    "    stratigraphy.fold.foldframe[0].set_model(model)\n",
    "    s1_s0_splot = RotationAnglePlotter(stratigraphy)\n",
    "    s1_s0_splot.add_fold_limb_data()\n",
    "    s1_s0_splot.add_fold_limb_curve()\n",
    "    s1_s0_splot.add_limb_svariogram()\n",
    "    s1_s0_splot.default_titles()\n",
    "    s1_s0_splot.fig.delaxes(s1_s0_splot.ax[0][0])\n",
    "    s1_s0_splot.fig.delaxes(s1_s0_splot.ax[0][1])"
   ]
  },
  {
   "cell_type": "markdown",
   "metadata": {},
   "source": [
    "### Evaluation\n",
    "Do you think that a typical structural map and cross section has enough data to be able to constrain the geometry of folds in 3D?\n",
    "\n"
   ]
  },
  {
   "cell_type": "code",
   "execution_count": null,
   "metadata": {},
   "outputs": [],
   "source": []
  }
 ],
 "metadata": {
  "kernelspec": {
   "display_name": "Python 3",
   "language": "python",
   "name": "python3"
  },
  "language_info": {
   "codemirror_mode": {
    "name": "ipython",
    "version": 3
   },
   "file_extension": ".py",
   "mimetype": "text/x-python",
   "name": "python",
   "nbconvert_exporter": "python",
   "pygments_lexer": "ipython3",
   "version": "3.7.9"
  },
  "varInspector": {
   "cols": {
    "lenName": 16,
    "lenType": 16,
    "lenVar": 40
   },
   "kernels_config": {
    "python": {
     "delete_cmd_postfix": "",
     "delete_cmd_prefix": "del ",
     "library": "var_list.py",
     "varRefreshCmd": "print(var_dic_list())"
    },
    "r": {
     "delete_cmd_postfix": ") ",
     "delete_cmd_prefix": "rm(",
     "library": "var_list.r",
     "varRefreshCmd": "cat(var_dic_list()) "
    }
   },
   "types_to_exclude": [
    "module",
    "function",
    "builtin_function_or_method",
    "instance",
    "_Feature"
   ],
   "window_display": false
  }
 },
 "nbformat": 4,
 "nbformat_minor": 4
}
