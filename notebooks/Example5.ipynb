{
 "cells": [
  {
   "cell_type": "markdown",
   "metadata": {},
   "source": [
    "<img src=\"images/banner.png\" alt=\"Folded outcrop\" />"
   ]
  },
  {
   "cell_type": "markdown",
   "metadata": {},
   "source": [
    "# Duplex example\n",
    "## Imports"
   ]
  },
  {
   "cell_type": "code",
   "execution_count": 1,
   "metadata": {
    "ExecuteTime": {
     "end_time": "2019-11-14T04:24:55.327020Z",
     "start_time": "2019-11-14T04:24:54.533386Z"
    }
   },
   "outputs": [],
   "source": [
    "import numpy as np\n",
    "import pandas as pd\n",
    "import matplotlib.pyplot as plt\n",
    "from LoopStructural import GeologicalModel\n",
    "from LoopStructural.visualisation.model_visualisation import LavaVuModelViewer\n",
    "from LoopStructural.datasets import load_duplex\n",
    "import matplotlib.pyplot as plt\n",
    "%matplotlib inline"
   ]
  },
  {
   "cell_type": "markdown",
   "metadata": {},
   "source": [
    "## Define model bounding box"
   ]
  },
  {
   "cell_type": "code",
   "execution_count": 2,
   "metadata": {
    "ExecuteTime": {
     "end_time": "2019-11-14T04:25:21.222929Z",
     "start_time": "2019-11-14T04:25:21.214019Z"
    }
   },
   "outputs": [],
   "source": [
    "data, boundary_points = load_duplex()#np.zeros((2,3))\n"
   ]
  },
  {
   "cell_type": "code",
   "execution_count": 3,
   "metadata": {},
   "outputs": [],
   "source": [
    "splay_region = lambda pos : np.logical_or(pos[:,0] < (-6.5-model.origin[0])/model.scale_factor, pos[:,0] \n",
    "                                          > (5-model.origin[0])/model.scale_factor)"
   ]
  },
  {
   "cell_type": "code",
   "execution_count": 4,
   "metadata": {},
   "outputs": [],
   "source": [
    "model = GeologicalModel(boundary_points[0,:],boundary_points[1,:])\n",
    "model.set_model_data(data)"
   ]
  },
  {
   "cell_type": "code",
   "execution_count": 5,
   "metadata": {},
   "outputs": [
    {
     "name": "stderr",
     "output_type": "stream",
     "text": [
      "c:\\users\\lgrose\\.conda\\envs\\loop\\lib\\site-packages\\pandas\\core\\indexing.py:494: SettingWithCopyWarning: \n",
      "A value is trying to be set on a copy of a slice from a DataFrame.\n",
      "Try using .loc[row_indexer,col_indexer] = value instead\n",
      "\n",
      "See the caveats in the documentation: http://pandas.pydata.org/pandas-docs/stable/user_guide/indexing.html#returning-a-view-versus-a-copy\n",
      "  self.obj[item] = s\n",
      "c:\\users\\lgrose\\.conda\\envs\\loop\\lib\\site-packages\\LoopStructural\\modelling\\fault\\fault_segment.py:176: RuntimeWarning: invalid value encountered in greater\n",
      "  d[gx > 0] = 1.\n",
      "c:\\users\\lgrose\\.conda\\envs\\loop\\lib\\site-packages\\LoopStructural\\modelling\\fault\\fault_segment.py:177: RuntimeWarning: invalid value encountered in less\n",
      "  d[gx < 0] = 0.\n",
      "c:\\users\\lgrose\\.conda\\envs\\loop\\lib\\site-packages\\LoopStructural\\modelling\\fault\\fault_segment.py:200: RuntimeWarning: invalid value encountered in greater\n",
      "  d[gx > 0] = 1.\n",
      "c:\\users\\lgrose\\.conda\\envs\\loop\\lib\\site-packages\\LoopStructural\\modelling\\fault\\fault_segment.py:201: RuntimeWarning: invalid value encountered in less\n",
      "  d[gx < 0] = 0.\n"
     ]
    }
   ],
   "source": [
    "fault1 = model.create_and_add_fault('fault2',\n",
    "                                    -2.,\n",
    "                                    nelements=4000,\n",
    "                                    solver='lu',\n",
    "                                    interpolatortype='FDI',\n",
    "                                   damp = True,\n",
    "#                                     precon=precon,\n",
    "                                    buffer=np.array([0.5,0.2,0.3]),\n",
    "                                    regularisation=[2.,.2,.2],\n",
    "                                    gxxgy=4.,\n",
    "                                    gxxgz=4.,\n",
    "                                    gyxgz=4.,\n",
    "#                                                                         region=interpolation_region\n",
    "                                    steps=10,\n",
    "                                    cpw=10\n",
    "                                    \n",
    "                                   )\n",
    "# splay_region = lambda pos : np.logical_or(fault1['feature'].apply_to_points(pos)[:,0] < (-4.5-model.origin[0])/model.scale_factor, \n",
    "#                                           fault1['feature'].apply_to_points(pos)[:,0] > (4.5-model.origin[0])/model.scale_factor)\n",
    "fault2 = model.create_and_add_fault('fault1',\n",
    "                                    -2,\n",
    "                                    nelements=4000,\n",
    "                                    solver='lu',\n",
    "                                    interpolatortype='FDI',\n",
    "                                   damp = True,\n",
    "                                    splayregion=splay_region,\n",
    "                                    splay = fault1['feature'],\n",
    "                                    regularisation=[2.,.5,.5],\n",
    "                                    gxxgy=4.,\n",
    "                                    gxxgz=4.,\n",
    "                                    gyxgz=4.,\n",
    "#                                     precon=precon,\n",
    "                                    buffer=np.array([0.6,0.2,0.2]),\n",
    "#                                                                         region=interpolation_region\n",
    "                                    steps=10,\n",
    "                                    cpw=10,\n",
    "                                    overprinted=['fault2'],\n",
    "                                   )\n",
    "strati = model.create_and_add_foliation('strati',\n",
    "                                        solver='lu',\n",
    "                                        interpolatortype='FDI', \n",
    "                                        nelements=1500,\n",
    "                                        damp=True,\n",
    "                                        buffer=np.array([0.8,0.4,0.4])\n",
    "                                       )"
   ]
  },
  {
   "cell_type": "code",
   "execution_count": 6,
   "metadata": {},
   "outputs": [
    {
     "data": {
      "text/html": [
       "<img src=''>"
      ],
      "text/plain": [
       "<IPython.core.display.HTML object>"
      ]
     },
     "metadata": {},
     "output_type": "display_data"
    }
   ],
   "source": [
    "viewer = LavaVuModelViewer(model)\n",
    "viewer.nsteps = np.array([100,20,100])\n",
    "# viewer.add_vector_field(strati['feature'])#,locations=nodes2)#,model.regular_grid((25,25,12)))\n",
    "\n",
    "viewer.add_scalar_field(strati['feature'],cmap='tab20')\n",
    "viewer.lv.rotatex(-90)\n",
    "viewer.lv['xmin'] = -1\n",
    "viewer.lv['ymin'] = -1\n",
    "viewer.lv['zmin'] = -1\n",
    "viewer.lv['xmax'] = 1\n",
    "viewer.lv['ymax'] = 1\n",
    "viewer.lv['zmax'] = 1\n",
    "viewer.lv['border'] = 0\n",
    "viewer.lv.image('fault_duplex_scalar_field.png')\n",
    "viewer.lv.display()"
   ]
  },
  {
   "cell_type": "code",
   "execution_count": null,
   "metadata": {},
   "outputs": [],
   "source": []
  }
 ],
 "metadata": {
  "kernelspec": {
   "display_name": "Python 3",
   "language": "python",
   "name": "python3"
  },
  "language_info": {
   "codemirror_mode": {
    "name": "ipython",
    "version": 3
   },
   "file_extension": ".py",
   "mimetype": "text/x-python",
   "name": "python",
   "nbconvert_exporter": "python",
   "pygments_lexer": "ipython3",
   "version": "3.7.4"
  },
  "varInspector": {
   "cols": {
    "lenName": 16,
    "lenType": 16,
    "lenVar": 40
   },
   "kernels_config": {
    "python": {
     "delete_cmd_postfix": "",
     "delete_cmd_prefix": "del ",
     "library": "var_list.py",
     "varRefreshCmd": "print(var_dic_list())"
    },
    "r": {
     "delete_cmd_postfix": ") ",
     "delete_cmd_prefix": "rm(",
     "library": "var_list.r",
     "varRefreshCmd": "cat(var_dic_list()) "
    }
   },
   "types_to_exclude": [
    "module",
    "function",
    "builtin_function_or_method",
    "instance",
    "_Feature"
   ],
   "window_display": false
  }
 },
 "nbformat": 4,
 "nbformat_minor": 2
}
