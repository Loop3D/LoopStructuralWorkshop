{
 "cells": [
  {
   "cell_type": "code",
   "execution_count": 1,
   "metadata": {
    "ExecuteTime": {
     "end_time": "2019-11-26T23:48:27.048852Z",
     "start_time": "2019-11-26T23:48:25.626040Z"
    }
   },
   "outputs": [
    {
     "name": "stderr",
     "output_type": "stream",
     "text": [
      "/home/lgrose/miniconda3/envs/loop/lib/python3.8/site-packages/sklearn/utils/deprecation.py:144: FutureWarning: The sklearn.decomposition.pca module is  deprecated in version 0.22 and will be removed in version 0.24. The corresponding classes / functions should instead be imported from sklearn.decomposition. Anything that cannot be imported from sklearn.decomposition is now part of the private API.\n",
      "  warnings.warn(message, FutureWarning)\n"
     ]
    }
   ],
   "source": [
    "import numpy as np\n",
    "import pandas as pd\n",
    "import matplotlib.pyplot as plt\n",
    "from LoopStructural import GeologicalModel\n",
    "from LoopStructural.visualisation.model_visualisation import LavaVuModelViewer\n",
    "from LoopStructural.datasets import load_duplex\n",
    "import matplotlib.pyplot as plt\n",
    "%matplotlib inline\n",
    "# %load_ext snakeviz"
   ]
  },
  {
   "cell_type": "code",
   "execution_count": 2,
   "metadata": {
    "ExecuteTime": {
     "end_time": "2019-11-26T23:48:27.054165Z",
     "start_time": "2019-11-26T23:48:27.050561Z"
    }
   },
   "outputs": [],
   "source": [
    "# boundary_points = np.zeros((2,3))\n",
    "# boundary_points[0,0] = -10.\n",
    "# boundary_points[0,1] = -1.\n",
    "# boundary_points[0,2] = -1.\n",
    "# boundary_points[1,0] = 10.\n",
    "# boundary_points[1,1] = 3.\n",
    "# boundary_points[1,2] = 10."
   ]
  },
  {
   "cell_type": "code",
   "execution_count": 3,
   "metadata": {},
   "outputs": [],
   "source": [
    "# data.to_pickle('../LoopStructural/datasets/data/duplex.pkl')"
   ]
  },
  {
   "cell_type": "code",
   "execution_count": 4,
   "metadata": {},
   "outputs": [],
   "source": [
    "# np.savetxt('../LoopStructural/datasets/data/duplexbb.txt',boundary_points)"
   ]
  },
  {
   "cell_type": "code",
   "execution_count": 5,
   "metadata": {
    "ExecuteTime": {
     "end_time": "2019-11-26T23:48:27.074903Z",
     "start_time": "2019-11-26T23:48:27.055832Z"
    }
   },
   "outputs": [],
   "source": [
    "# data = pd.read_pickle('duplextesting.pkl')\n",
    "# data.to_pickle('duplextesting.pkl')"
   ]
  },
  {
   "cell_type": "code",
   "execution_count": 6,
   "metadata": {},
   "outputs": [],
   "source": [
    "data, boundary_points = load_duplex()"
   ]
  },
  {
   "cell_type": "code",
   "execution_count": 7,
   "metadata": {
    "ExecuteTime": {
     "end_time": "2019-11-26T23:48:27.079560Z",
     "start_time": "2019-11-26T23:48:27.076508Z"
    }
   },
   "outputs": [],
   "source": [
    "# splay_region = lambda pos : pos[:,0] < (-4.5-model.origin[0])/model.scale_factor\n",
    "                                         \n",
    "splay_region = lambda pos : np.logical_or(pos[:,0] < (-6.5-model.origin[0])/model.scale_factor, pos[:,0] \n",
    "                                          > (5-model.origin[0])/model.scale_factor)"
   ]
  },
  {
   "cell_type": "code",
   "execution_count": 8,
   "metadata": {
    "ExecuteTime": {
     "end_time": "2019-11-26T23:48:27.105180Z",
     "start_time": "2019-11-26T23:48:27.080918Z"
    }
   },
   "outputs": [],
   "source": [
    "model = GeologicalModel(boundary_points[0,:],boundary_points[1,:])\n",
    "model.set_model_data(data)"
   ]
  },
  {
   "cell_type": "code",
   "execution_count": null,
   "metadata": {
    "ExecuteTime": {
     "end_time": "2019-11-26T23:48:27.505901Z",
     "start_time": "2019-11-26T23:48:27.106500Z"
    }
   },
   "outputs": [],
   "source": [
    "viewer = LavaVuModelViewer(model)\n",
    "\n",
    "viewer.add_points(model.data[np.logical_and(data['type']=='fault2',data['coord']==0)][['X','Y','Z']],\n",
    "                  name='f1',pointsize=10,colour='red')\n",
    "\n",
    "# viewer.add_data(fault1['feature'][0],pointsize=20)\n",
    "viewer.add_points(model.data[np.logical_and(data['type']=='fault1',data['coord']==0)][['X','Y','Z']],\n",
    "                  name='f2',pointsize=10,colour='blue')\n",
    "# viewer.add_data(fault2['feature'][0])\n",
    "viewer.lv.rotatex(-90)\n",
    "viewer.lv['xmin'] = -1\n",
    "viewer.lv['ymin'] = -1\n",
    "viewer.lv['zmin'] = -1\n",
    "viewer.lv['xmax'] = 1\n",
    "viewer.lv['ymax'] = 1\n",
    "viewer.lv['zmax'] = 1\n",
    "viewer.lv['border'] = 0\n",
    "\n",
    "viewer.lv.display()\n",
    "viewer.lv.image('fault_data.png')"
   ]
  },
  {
   "cell_type": "code",
   "execution_count": null,
   "metadata": {
    "ExecuteTime": {
     "end_time": "2019-11-26T23:48:54.587078Z",
     "start_time": "2019-11-26T23:48:27.507407Z"
    }
   },
   "outputs": [],
   "source": [
    "\n",
    "fault1 = model.create_and_add_fault('fault2',\n",
    "                                    -2.,\n",
    "                                    nelements=4000,\n",
    "                                    solver='lu',\n",
    "                                    interpolatortype='PLI',\n",
    "                                   damp = True,\n",
    "#                                     precon=precon,\n",
    "                                    buffer=np.array([0.5,0.1,0.3]),\n",
    "                                    regularisation=[2.,.4,.4],\n",
    "                                    gxxgy=4.,\n",
    "                                    gxxgz=4.,\n",
    "                                    gyxgz=4.,\n",
    "#                                                                         region=interpolation_region\n",
    "                                    steps=10,\n",
    "                                    cpw=10\n",
    "                                   )\n",
    "# splay_region = lambda pos : np.logical_or(fault1['feature'].apply_to_points(pos)[:,0] < (-4.5-model.origin[0])/model.scale_factor, \n",
    "#                                           fault1['feature'].apply_to_points(pos)[:,0] > (4.5-model.origin[0])/model.scale_factor)\n",
    "fault2 = model.create_and_add_fault('fault1',\n",
    "                                    -2,\n",
    "                                    nelements=4000,\n",
    "                                    solver='lu',\n",
    "                                    interpolatortype='PLI',\n",
    "                                   damp = True,\n",
    "                                    splayregion=splay_region,\n",
    "                                    splay = fault1['feature'],\n",
    "                                    regularisation=[2.,.5,.5],\n",
    "                                    gxxgy=4.,\n",
    "                                    gxxgz=4.,\n",
    "                                    gyxgz=4.,\n",
    "#                                     precon=precon,\n",
    "                                    buffer=np.array([0.6,0.3,0.3]),\n",
    "#                                                                         region=interpolation_region\n",
    "                                    steps=10,\n",
    "                                    cpw=10,\n",
    "                                    overprinted=['fault2']\n",
    "                                   )\n",
    "strati = model.create_and_add_foliation('strati',\n",
    "                                        solver='lu',\n",
    "                                        interpolatortype='PLI', \n",
    "                                        nelements=1500,\n",
    "                                        damp=True,\n",
    "                                        buffer=np.array([0.8,0.4,0.4])\n",
    "                                       )"
   ]
  },
  {
   "cell_type": "markdown",
   "metadata": {},
   "source": [
    "### Figure for Fault 1 showing interpolation nodes for fault 2"
   ]
  },
  {
   "cell_type": "code",
   "execution_count": null,
   "metadata": {
    "ExecuteTime": {
     "end_time": "2019-11-27T00:05:44.237991Z",
     "start_time": "2019-11-27T00:05:43.759156Z"
    }
   },
   "outputs": [],
   "source": [
    "viewer = LavaVuModelViewer(model)\n",
    "viewer.add_isosurface(fault1['feature'],\n",
    "                      isovalue=0,\n",
    "                      voxet=model.voxet()\n",
    "                     )\n",
    "# viewer.add_isosurface(fault2['feature'],\n",
    "#                       isovalue=0,\n",
    "#                       voxet=model.voxet()\n",
    "#                      )\n",
    "# viewer.add_isosurface(fault1['feature'],\n",
    "#                       isovalue=0,\n",
    "# #                       voxet=model.voxet()\n",
    "#                       name='t1'\n",
    "#                      )\n",
    "# viewer.add_isosurface(fault2['feature'],\n",
    "#                       isovalue=0,\n",
    "# #                       voxet=model.voxet()\n",
    "#                       name='t2'\n",
    "#                      )\n",
    "nodes = model.regular_grid()#fault2['feature'][0].get_interpolator().support.nodes\n",
    "p1 = viewer.lv.points('nodes2',pointsize=6,colour='grey')\n",
    "p1.vertices(nodes[~fault1['feature'].evaluate(nodes),:])\n",
    "nodes  = nodes[fault1['feature'].evaluate(nodes),:]\n",
    "p = viewer.lv.points('nodes',pointsize=6,colour='black')\n",
    "p.vertices(nodes)\n",
    "# nodes = fault1['feature'].apply_to_points(nodes)\n",
    "# p = viewer.lv.points('nodes_faulted',pointsize=3,colour='blue')\n",
    "# p.vertices(nodes)\n",
    "# nodes = fault2['feature'].apply_to_points(nodes)\n",
    "# p = viewer.lv.points('nodes_faulted2',pointsize=3,colour='blue')\n",
    "# p.vertices(nodes)\n",
    "\n",
    "# viewer.add_vector_field(fault1['feature'][1])#,model.regular_grid((25,25,12)))\n",
    "viewer.lv.rotatex(-90)\n",
    "viewer.lv['xmin'] = -1\n",
    "viewer.lv['ymin'] = -1\n",
    "viewer.lv['zmin'] = -1\n",
    "viewer.lv['xmax'] = 1\n",
    "viewer.lv['ymax'] = 1\n",
    "viewer.lv['zmax'] = 1\n",
    "viewer.lv['border'] = 0\n",
    "viewer.lv.image('points_before_fault.png')\n",
    "viewer.lv.display()"
   ]
  },
  {
   "cell_type": "markdown",
   "metadata": {},
   "source": [
    "### Figure showing fault 1 displacement field"
   ]
  },
  {
   "cell_type": "code",
   "execution_count": null,
   "metadata": {
    "ExecuteTime": {
     "end_time": "2019-11-26T23:48:57.765316Z",
     "start_time": "2019-11-26T23:48:55.060068Z"
    }
   },
   "outputs": [],
   "source": [
    "viewer = LavaVuModelViewer(model)\n",
    "viewer.add_isosurface(fault1['feature'],\n",
    "                      isovalue=0,\n",
    "                      voxet=model.voxet()\n",
    "                     )\n",
    "# viewer.add_isosurface(fault2['feature'],\n",
    "#                       isovalue=0,\n",
    "#                       voxet=model.voxet()\n",
    "#                      )\n",
    "# viewer.add_isosurface(fault1['feature'],\n",
    "#                       isovalue=0,\n",
    "# #                       voxet=model.voxet()\n",
    "#                       name='t1'\n",
    "#                      )\n",
    "# viewer.add_isosurface(fault2['feature'],\n",
    "#                       isovalue=0,\n",
    "# #                       voxet=model.voxet()\n",
    "#                       name='t2'\n",
    "#                      )\n",
    "# nodes = model.regular_grid()#fault2['feature'][0].get_interpolator().support.nodes\n",
    "# nodes  = nodes[fault1['feature'].evaluate(nodes),:]\n",
    "# p = viewer.lv.points('nodes',pointsize=3,colour='red')\n",
    "# p.vertices(nodes)\n",
    "# nodes = fault1['feature'].apply_to_points(nodes)\n",
    "# p = viewer.lv.points('nodes_faulted',pointsize=3,colour='blue')\n",
    "# p.vertices(nodes)\n",
    "# nodes = fault2['feature'].apply_to_points(nodes)\n",
    "# p = viewer.lv.points('nodes_faulted2',pointsize=3,colour='blue')\n",
    "# p.vertices(nodes)\n",
    "\n",
    "viewer.add_vector_field(fault1['feature'][1],locations=nodes)#,model.regular_grid((25,25,12)))\n",
    "viewer.lv.rotatex(-90)\n",
    "viewer.lv['xmin'] = -2\n",
    "viewer.lv['ymin'] = -2\n",
    "viewer.lv['zmin'] = -2\n",
    "viewer.lv['xmax'] = 2\n",
    "viewer.lv['ymax'] = 2\n",
    "viewer.lv['zmax'] = 2\n",
    "viewer.lv['border'] = 0\n",
    "\n",
    "viewer.lv.display()\n",
    "viewer.lv.image('fault1_displacement_vectors.png')"
   ]
  },
  {
   "cell_type": "markdown",
   "metadata": {},
   "source": [
    "### Figure for fault 2 surfaces"
   ]
  },
  {
   "cell_type": "code",
   "execution_count": null,
   "metadata": {
    "ExecuteTime": {
     "end_time": "2019-11-26T23:48:59.629023Z",
     "start_time": "2019-11-26T23:48:57.766623Z"
    }
   },
   "outputs": [],
   "source": [
    "viewer = LavaVuModelViewer(model)\n",
    "viewer.add_isosurface(fault1['feature'],\n",
    "                      isovalue=0,\n",
    "                      voxet=model.voxet()\n",
    "                     )\n",
    "# viewer.add_isosurface(fault2['feature'],\n",
    "#                       isovalue=0,\n",
    "#                       voxet=model.voxet()\n",
    "#                      )\n",
    "# viewer.add_isosurface(fault1['feature'],\n",
    "#                       isovalue=0,\n",
    "# #                       voxet=model.voxet()\n",
    "#                       name='t1'\n",
    "#                      )\n",
    "# viewer.add_isosurface(fault2['feature'],\n",
    "#                       isovalue=0,\n",
    "# #                       voxet=model.voxet()\n",
    "#                       name='t2'\n",
    "#                      )\n",
    "nodes = model.regular_grid()#fault2['feature'][0].get_interpolator().support.nodes\n",
    "\n",
    "p1 = viewer.lv.points('nodes',pointsize=6,colour='grey')\n",
    "p1.vertices(nodes[~fault1['feature'].evaluate(nodes),:])\n",
    "nodes  = nodes[fault1['feature'].evaluate(nodes),:]\n",
    "# p = viewer.lv.points('nodes',pointsize=3,colour='red')\n",
    "# p.vertices(nodes)\n",
    "nodes = fault1['feature'].apply_to_points(nodes)\n",
    "p = viewer.lv.points('nodes_faulted',pointsize=6,colour='black')\n",
    "p.vertices(nodes)\n",
    "# nodes = fault2['feature'].apply_to_points(nodes)\n",
    "# p = viewer.lv.points('nodes_faulted2',pointsize=3,colour='blue')\n",
    "# p.vertices(nodes)\n",
    "\n",
    "# viewer.add_vector_field(fault1['feature'][1])#,model.regular_grid((25,25,12)))\n",
    "viewer.lv.rotatex(-90)\n",
    "viewer.lv['xmin'] = -1\n",
    "viewer.lv['ymin'] = -1\n",
    "viewer.lv['zmin'] = -1\n",
    "viewer.lv['xmax'] = 1\n",
    "viewer.lv['ymax'] = 1\n",
    "viewer.lv['zmax'] = 1\n",
    "viewer.lv['border'] = 0\n",
    "\n",
    "viewer.lv.display()\n",
    "viewer.lv.image('fault1_point_displaced.png')"
   ]
  },
  {
   "cell_type": "markdown",
   "metadata": {},
   "source": [
    "### Fault 2 displacement vectors"
   ]
  },
  {
   "cell_type": "code",
   "execution_count": null,
   "metadata": {
    "ExecuteTime": {
     "end_time": "2019-11-26T23:48:59.633082Z",
     "start_time": "2019-11-26T23:48:59.630494Z"
    }
   },
   "outputs": [],
   "source": [
    "tmp = fault2['feature'][1].faults"
   ]
  },
  {
   "cell_type": "code",
   "execution_count": null,
   "metadata": {
    "ExecuteTime": {
     "end_time": "2019-11-26T23:48:59.643193Z",
     "start_time": "2019-11-26T23:48:59.634674Z"
    }
   },
   "outputs": [],
   "source": [
    "fault2['feature'][1].faults  = tmp\n",
    "fault2['feature'][0].faults  = tmp"
   ]
  },
  {
   "cell_type": "code",
   "execution_count": null,
   "metadata": {
    "ExecuteTime": {
     "end_time": "2019-11-26T23:49:05.968935Z",
     "start_time": "2019-11-26T23:48:59.647607Z"
    }
   },
   "outputs": [],
   "source": [
    "viewer = LavaVuModelViewer(model)\n",
    "viewer.add_isosurface(fault2['feature'],\n",
    "                      isovalue=0,\n",
    "                      voxet=model.voxet()\n",
    "                     )\n",
    "# viewer.add_isosurface(fault2['feature'],\n",
    "#                       isovalue=0,\n",
    "#                       voxet=model.voxet()\n",
    "#                      )\n",
    "# viewer.add_isosurface(fault1['feature'],\n",
    "#                       isovalue=0,\n",
    "# #                       voxet=model.voxet()\n",
    "#                       name='t1'\n",
    "#                      )\n",
    "# viewer.add_isosurface(fault2['feature'],\n",
    "#                       isovalue=0,\n",
    "# #                       voxet=model.voxet()\n",
    "#                       name='t2'\n",
    "#                      )\n",
    "nodes2 = model.regular_grid()#fault2['feature'][0].get_interpolator().support.nodes\n",
    "nodes2  = nodes2[fault2['feature'].evaluate(nodes2),:]\n",
    "nodes2 = nodes2#[::50]\n",
    "# p = viewer.lv.points('nodes',pointsize=3,colour='red')\n",
    "# p.vertices(nodes)\n",
    "# nodes = fault1['feature'].apply_to_points(nodes)\n",
    "# p = viewer.lv.points('nodes_faulted',pointsize=3,colour='blue')\n",
    "# p.vertices(nodes)\n",
    "# nodes = fault2['feature'].apply_to_points(nodes)\n",
    "# p = viewer.lv.points('nodes_faulted2',pointsize=3,colour='blue')\n",
    "# p.vertices(nodes)\n",
    "\n",
    "viewer.add_vector_field(fault2['feature'][1],locations=nodes2)#,model.regular_grid((25,25,12)))\n",
    "viewer.lv.rotatex(-90)\n",
    "viewer.lv['xmin'] = -1\n",
    "viewer.lv['ymin'] = -1\n",
    "viewer.lv['zmin'] = -1\n",
    "viewer.lv['xmax'] = 1\n",
    "viewer.lv['ymax'] = 1\n",
    "viewer.lv['zmax'] = 1\n",
    "viewer.lv['border'] = 0\n",
    "# viewer.interactive()\n",
    "viewer.lv.display()\n",
    "viewer.lv.image('fault2_displacement_vectors.png')"
   ]
  },
  {
   "cell_type": "markdown",
   "metadata": {},
   "source": [
    "### Figure showing both node movements"
   ]
  },
  {
   "cell_type": "code",
   "execution_count": null,
   "metadata": {
    "ExecuteTime": {
     "end_time": "2019-11-27T00:13:09.221895Z",
     "start_time": "2019-11-27T00:12:16.944839Z"
    }
   },
   "outputs": [],
   "source": [
    "viewer = LavaVuModelViewer(model)\n",
    "viewer.add_isosurface(fault1['feature'],\n",
    "                      isovalue=0,\n",
    "                      voxet=model.voxet()\n",
    "                     )\n",
    "# fault2['feature'][0].faults = []#fault2['feature'][1].faults\n",
    "# viewer.add_isosurface(fault2['feature'],\n",
    "#                       isovalue=0,\n",
    "#                       voxet=model.voxet(),\n",
    "#                       name='f2wof1'\n",
    "#                      )\n",
    "# fault2['feature'][0].faults = fault2['feature'][1].faults\n",
    "viewer.add_isosurface(fault2['feature'],\n",
    "                      isovalue=0,\n",
    "                      voxet=model.voxet())\n",
    "# viewer.add_isosurface(fault1['feature'],\n",
    "#                       isovalue=0,\n",
    "# #                       voxet=model.voxet()\n",
    "#                       name='t1'\n",
    "#                      )\n",
    "# viewer.add_isosurface(fault2['feature'],\n",
    "#                       isovalue=0,\n",
    "# #                       voxet=model.voxet()\n",
    "#                       name='t2'\n",
    "#                      )\n",
    "nodes = model.regular_grid()#fault2['feature'][0].get_interpolator().support.nodes\n",
    "p1 = viewer.lv.points('nodes',pointsize=6,colour='grey')\n",
    "p1.vertices(nodes[~fault1['feature'].evaluate(nodes),:])\n",
    "nodes  = nodes[fault1['feature'].evaluate(nodes),:]\n",
    "# viewer.add_vector_field(fault2['feature'][1],locations=nodes)\n",
    "# p = viewer.lv.points('nodes',pointsize=3,colour='red')\n",
    "# p.vertices(nodes)\n",
    "# nodes = fault1['feature'].apply_to_points(nodes)\n",
    "# p = viewer.lv.points('nodes_faulted',pointsize=3,colour='blue')\n",
    "# p.vertices(nodes)\n",
    "nodes = fault1['feature'].apply_to_points(nodes)\n",
    "# fault2['feature'][0].faults = []\n",
    "nodes = fault2['feature'].apply_to_points(nodes)\n",
    "# fault2['feature'][0].faults = fault2['feature'][1].faults\n",
    "\n",
    "p = viewer.lv.points('nodes_faulted2',pointsize=6,colour='black')\n",
    "p.vertices(nodes[fault2['feature'].evaluate(nodes),:])\n",
    "p = viewer.lv.points('nodes_faulted3',pointsize=6,colour='grey')\n",
    "p.vertices(nodes[~fault2['feature'].evaluate(nodes),:])\n",
    "#viewer.add_vector_field(fault2['feature'][1],nodes)#,model.regular_grid((25,25,12)))\n",
    "viewer.lv.rotatex(-90)\n",
    "viewer.lv['xmin'] = -1\n",
    "viewer.lv['ymin'] = -1\n",
    "viewer.lv['zmin'] = -1\n",
    "viewer.lv['xmax'] = 1\n",
    "viewer.lv['ymax'] = 1\n",
    "viewer.lv['zmax'] = 1\n",
    "viewer.lv['border'] = 0\n",
    "# viewer.interactive()\n",
    "viewer.lv.display()\n",
    "viewer.lv.image('points_both_fault.png')"
   ]
  },
  {
   "cell_type": "code",
   "execution_count": null,
   "metadata": {},
   "outputs": [],
   "source": []
  },
  {
   "cell_type": "markdown",
   "metadata": {},
   "source": [
    "### Figure showing data"
   ]
  },
  {
   "cell_type": "markdown",
   "metadata": {
    "heading_collapsed": true
   },
   "source": [
    "### Figure showing faults"
   ]
  },
  {
   "cell_type": "code",
   "execution_count": null,
   "metadata": {
    "ExecuteTime": {
     "end_time": "2019-11-26T23:49:59.457768Z",
     "start_time": "2019-11-26T23:49:57.612606Z"
    },
    "hidden": true
   },
   "outputs": [],
   "source": [
    "viewer = LavaVuModelViewer(model)\n",
    "viewer.add_isosurface(fault1['feature'],\n",
    "#                       slices=[-1,0,1],\n",
    "                      isovalue=0,\n",
    "                     )\n",
    "viewer.add_isosurface(fault2['feature'],\n",
    "                      isovalue=0\n",
    "                     )\n",
    "# viewer.add_isosurface(fault2['feature'],\n",
    "# #                       slices=[-1,0,1],\n",
    "#                       isovalue=0,\n",
    "# #                       voxet=model.voxet((50,3,20)),\n",
    "#                       name='t'\n",
    "#                      )\n",
    "# viewer.add_isosurface(fault1['feature'],\n",
    "# #                       slices=[-1,0,1],\n",
    "#                       isovalue=0,\n",
    "# #                       voxet=model.voxet((50,3,20)),\n",
    "#                       name='t3'\n",
    "#                      )\n",
    "viewer.lv.rotatex(-90)\n",
    "viewer.lv['xmin'] = -1\n",
    "viewer.lv['ymin'] = -1\n",
    "viewer.lv['zmin'] = -1\n",
    "viewer.lv['xmax'] = 1\n",
    "viewer.lv['ymax'] = 1\n",
    "viewer.lv['zmax'] = 1\n",
    "\n",
    "viewer.lv['border'] = 0\n",
    "\n",
    "viewer.lv.display()\n",
    "viewer.lv.image('fault_network.png')"
   ]
  },
  {
   "cell_type": "markdown",
   "metadata": {},
   "source": [
    "### Figure showing faulted strati"
   ]
  },
  {
   "cell_type": "code",
   "execution_count": null,
   "metadata": {
    "ExecuteTime": {
     "end_time": "2019-11-26T23:54:29.015059Z",
     "start_time": "2019-11-26T23:54:06.518032Z"
    },
    "scrolled": false
   },
   "outputs": [],
   "source": [
    "viewer = LavaVuModelViewer(model)\n",
    "viewer.nsteps = np.array([100,20,100])\n",
    "# viewer.add_vector_field(strati['feature'])#,locations=nodes2)#,model.regular_grid((25,25,12)))\n",
    "\n",
    "viewer.add_scalar_field(strati['feature'],cmap='tab20')\n",
    "viewer.lv.rotatex(-90)\n",
    "viewer.lv['xmin'] = -1\n",
    "viewer.lv['ymin'] = -1\n",
    "viewer.lv['zmin'] = -1\n",
    "viewer.lv['xmax'] = 1\n",
    "viewer.lv['ymax'] = 1\n",
    "viewer.lv['zmax'] = 1\n",
    "viewer.lv['border'] = 0\n",
    "viewer.lv.image('fault_duplex_scalar_field.png')\n",
    "viewer.lv.display()"
   ]
  },
  {
   "cell_type": "markdown",
   "metadata": {},
   "source": [
    "### Add all of the plots to a matplotlib figure"
   ]
  },
  {
   "cell_type": "code",
   "execution_count": null,
   "metadata": {
    "ExecuteTime": {
     "end_time": "2019-11-27T00:13:38.205181Z",
     "start_time": "2019-11-27T00:13:37.298084Z"
    }
   },
   "outputs": [],
   "source": [
    "fig, ax = plt.subplots(2,3,figsize=(20,10))\n",
    "ax[0,0].imshow(plt.imread('fault_data.png')[200:565, 178:844,:])\n",
    "ax[0,0].set_title('A.')\n",
    "ax[0,1].imshow(plt.imread('points_before_fault.png')[200:565, 178:844,:])\n",
    "ax[0,1].set_title('B.')\n",
    "ax[0,2].imshow(plt.imread('fault1_point_displaced.png')[200:565, 178:844,:])\n",
    "ax[0,2].set_title('C.')\n",
    "ax[1,0].imshow(plt.imread('fault_network.png')[200:565, 178:844,:])\n",
    "ax[1,0].set_title('D.')\n",
    "ax[1,1].imshow(plt.imread('points_both_fault.png')[200:565, 178:844,:])\n",
    "ax[1,1].set_title('E.')\n",
    "ax[1,2].imshow(plt.imread('fault_duplex_scalar_field.png')[200:565, 178:844,:])\n",
    "ax[1,2].set_title('F.')\n",
    "\n",
    "for i in range(2):\n",
    "    for j in range(3):\n",
    "        ax[i,j].axis('off')\n",
    "plt.tight_layout()\n",
    "# plt."
   ]
  },
  {
   "cell_type": "code",
   "execution_count": null,
   "metadata": {
    "ExecuteTime": {
     "end_time": "2019-11-26T23:50:06.459921Z",
     "start_time": "2019-11-26T23:50:06.455474Z"
    }
   },
   "outputs": [],
   "source": [
    "import os\n",
    "os.getcwd()"
   ]
  },
  {
   "cell_type": "code",
   "execution_count": null,
   "metadata": {},
   "outputs": [],
   "source": []
  }
 ],
 "metadata": {
  "kernelspec": {
   "display_name": "Python 3",
   "language": "python",
   "name": "python3"
  },
  "language_info": {
   "codemirror_mode": {
    "name": "ipython",
    "version": 3
   },
   "file_extension": ".py",
   "mimetype": "text/x-python",
   "name": "python",
   "nbconvert_exporter": "python",
   "pygments_lexer": "ipython3",
   "version": "3.8.1"
  },
  "varInspector": {
   "cols": {
    "lenName": 16,
    "lenType": 16,
    "lenVar": 40
   },
   "kernels_config": {
    "python": {
     "delete_cmd_postfix": "",
     "delete_cmd_prefix": "del ",
     "library": "var_list.py",
     "varRefreshCmd": "print(var_dic_list())"
    },
    "r": {
     "delete_cmd_postfix": ") ",
     "delete_cmd_prefix": "rm(",
     "library": "var_list.r",
     "varRefreshCmd": "cat(var_dic_list()) "
    }
   },
   "types_to_exclude": [
    "module",
    "function",
    "builtin_function_or_method",
    "instance",
    "_Feature"
   ],
   "window_display": false
  }
 },
 "nbformat": 4,
 "nbformat_minor": 2
}
