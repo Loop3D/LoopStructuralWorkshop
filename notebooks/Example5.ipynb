{
 "cells": [
  {
   "cell_type": "code",
   "execution_count": null,
   "metadata": {
    "ExecuteTime": {
     "end_time": "2020-07-03T06:33:54.467994Z",
     "start_time": "2020-07-03T06:33:53.734022Z"
    }
   },
   "outputs": [],
   "source": [
    "from LoopStructural import GeologicalModel\n",
    "from LoopStructural.modelling.fault.fault_function import BaseFault\n",
    "from LoopStructural.visualisation import LavaVuModelViewer, MapView\n",
    "from LoopStructural.utils import process_map2loop\n",
    "import pandas as pd\n",
    "import numpy as np\n",
    "import os"
   ]
  },
  {
   "cell_type": "markdown",
   "metadata": {},
   "source": [
    "## Create a model from map2loop\n",
    "[map2loop](https://github.com/Loop3D/map2loop) is a map deconstruction library to provide inputs to [Loop](Loop3d.org). The development of map2loop is lead by Mark Jessell at The University of Western Australia. \n",
    "\n",
    "###  What it does:\n",
    "Combines information extracted from vector geology maps in various forms to support 3D geological modelling. Outputs are simple csv files that should be readable by any 3D modelling system. In the following demonstration we will use LoopStructural to generate a 3D model automatically from a map2loop output. "
   ]
  },
  {
   "cell_type": "code",
   "execution_count": null,
   "metadata": {
    "ExecuteTime": {
     "end_time": "2020-07-03T06:33:55.832343Z",
     "start_time": "2020-07-03T06:33:54.954946Z"
    }
   },
   "outputs": [],
   "source": [
    "fault_params = {'interpolatortype':'FDI',\n",
    "                'nelements':1e4, #number of elements to model fault with\n",
    "                'data_region':.5, #buffer around fault volume\n",
    "                'solver':'pyamg', #how to solve least squares system, pyamg is an algorithmic multigrid solver\n",
    "               }\n",
    "\n",
    "foliation_params = {'nelements':1e5,# how many tetras/voxels\n",
    "                    'interpolatortype':'PLI',\n",
    "                    'buffer':.5,  # how much to extend nterpolation around box np.array([1000,1000,1000]),#\n",
    "                    'solver':'pyamg',\n",
    "                    'damp':True,\n",
    "                   }\n",
    "\n",
    "model, m2l_data = GeologicalModel.from_map2loop_directory('./data/scratch/',#'/home/lgrose/dev/python/map2loop/Turner_Syncline/',\n",
    "                                                          skip_faults=False,\n",
    "                                                          fault_params=fault_params,\n",
    "#                                                           unconformities=False,\n",
    "                                                          rescale=True,\n",
    "                                                          foliation_params=foliation_params)\n",
    "\n"
   ]
  },
  {
   "cell_type": "markdown",
   "metadata": {},
   "source": [
    "## Fault network\n",
    "The following figure shows the fault displacement magnitude within the model area. Fault displacements are estimated from map2loop and geometry is constrained by the map2loop process, the faults are assumed to be vertical with vertical displacement vectors.  "
   ]
  },
  {
   "cell_type": "code",
   "execution_count": null,
   "metadata": {},
   "outputs": [],
   "source": [
    "mapview = MapView(model)\n",
    "mapview.nsteps = (200,200)\n",
    "mapview.add_fault_displacements()\n",
    "mapview.add_faults()\n",
    "\n",
    "# for i in range(5):\n",
    "#     def mask(x):\n",
    "#         val = model.features[i].displacementfeature.evaluate_value(x)\n",
    "#         val[np.isnan(val)] = 0\n",
    "#         maskv = np.zeros(val.shape).astype(bool)\n",
    "# #         maskv[~np.isnan(val)][np.abs(val[~np.isnan(val)]) > 0.001] = 1\n",
    "#         maskv[np.abs(val) > 0.001] = 1\n",
    "# #         maskv = lambda x : np.abs() > 0.01\n",
    "#         return maskv\n",
    "# #     mask = lambda x : np.abs(model.features[i].displacementfeature.evaluate_value(x)) > 0.0001\n",
    "#     mapview.add_contour(model.features[i],0,mask=mask)"
   ]
  },
  {
   "cell_type": "markdown",
   "metadata": {},
   "source": [
    "## Visualise 3D block diagram and boundary surfaces\n",
    "A stratigraphic column is generated from the map2loop input data that is populated with the colours from the geological map. "
   ]
  },
  {
   "cell_type": "code",
   "execution_count": null,
   "metadata": {
    "ExecuteTime": {
     "end_time": "2020-07-03T07:25:22.417709Z",
     "start_time": "2020-07-03T07:25:19.637934Z"
    }
   },
   "outputs": [],
   "source": [
    "# %%notify\n",
    "view = LavaVuModelViewer(model,vertical_exaggeration=1)\n",
    "view.nelements=1e6\n",
    "view.add_model()\n",
    "view.nelements=1e5\n",
    "view.add_model_surfaces()\n",
    "view.interactive()"
   ]
  },
  {
   "cell_type": "markdown",
   "metadata": {},
   "source": [
    "### Plot on a map surface\n",
    "We can also add the model to a 2D map (using a z value of 0, although this can be varied by adding `z` as an argument to the `add_model`"
   ]
  },
  {
   "cell_type": "code",
   "execution_count": null,
   "metadata": {},
   "outputs": [],
   "source": [
    "mapview = MapView(model)\n",
    "mapview.nsteps = (200,200)\n",
    "mapview.add_faults()\n",
    "mapview.add_model()\n",
    "# mapview.add_data(model.get_feature_by_name('supergroup_0'),unfault=True,grad=False)"
   ]
  },
  {
   "cell_type": "code",
   "execution_count": null,
   "metadata": {},
   "outputs": [],
   "source": []
  }
 ],
 "metadata": {
  "kernelspec": {
   "display_name": "Python 3",
   "language": "python",
   "name": "python3"
  },
  "language_info": {
   "codemirror_mode": {
    "name": "ipython",
    "version": 3
   },
   "file_extension": ".py",
   "mimetype": "text/x-python",
   "name": "python",
   "nbconvert_exporter": "python",
   "pygments_lexer": "ipython3",
   "version": "3.7.9"
  }
 },
 "nbformat": 4,
 "nbformat_minor": 4
}
