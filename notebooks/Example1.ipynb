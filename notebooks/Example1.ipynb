{
 "cells": [
  {
   "cell_type": "markdown",
   "metadata": {},
   "source": [
    "<img src=\"images/banner.png\" alt=\"Folded outcrop\" />"
   ]
  },
  {
   "cell_type": "markdown",
   "metadata": {},
   "source": [
    "# Implicit surface modelling \n",
    "This tutorial will demonstrate how to create an implicit surface representation of surfaces from a combination of orientation and location observations. \n",
    "\n",
    "Implicit surface representation involves finding an unknown function where $f(x,y,z)$ matches observations of the surface geometry. We generate a scalar field where the scalar value is the distance away from a reference horizon. The reference horizon is arbritary and can either be:\n",
    "\n",
    " * a single geological surface where the scalar field would represent the signed distance away from this surface. (above the surface positive and below negative)\n",
    " * Where multiple conformable horizons are observed the same scalar field can be used to represent these surfaces and the thickness of the layers is used to determine the relative scalar value for each surface\n",
    "\n",
    "\n",
    "\n",
    "This tutorial will demonstrate both of these approaches for modelling a number of horizons picked from seismic data sets, by following the next steps:\n",
    "1.\tCreation of a geological model, which includes:\n",
    "    *\tPresentation and visualization of the data\n",
    "    *\tAddition of a geological feature, which in this case is the stratigraphy of the model. \n",
    "2.\tVisualization of the scalar field.\n"
   ]
  },
  {
   "cell_type": "code",
   "execution_count": null,
   "metadata": {
    "ExecuteTime": {
     "end_time": "2019-11-11T21:37:20.012521Z",
     "start_time": "2019-11-11T21:37:18.705475Z"
    },
    "pycharm": {
     "is_executing": true
    },
    "scrolled": false
   },
   "outputs": [],
   "source": [
    "from LoopStructural import GeologicalModel\n",
    "from LoopStructural.visualisation import LavaVuModelViewer \n",
    "\n",
    "from LoopStructural.datasets import load_claudius #demo data \n",
    "\n",
    "import pandas as pd\n",
    "import numpy as np\n",
    "%matplotlib inline"
   ]
  },
  {
   "cell_type": "markdown",
   "metadata": {},
   "source": [
    "The data for this example can be imported from the example datasets module in loopstructural."
   ]
  },
  {
   "cell_type": "code",
   "execution_count": null,
   "metadata": {
    "ExecuteTime": {
     "end_time": "2019-11-11T21:37:58.240612Z",
     "start_time": "2019-11-11T21:37:58.205139Z"
    }
   },
   "outputs": [],
   "source": [
    "data, bb = load_claudius()"
   ]
  },
  {
   "cell_type": "markdown",
   "metadata": {
    "ExecuteTime": {
     "end_time": "2019-08-29T05:12:14.163319Z",
     "start_time": "2019-08-29T05:12:14.149529Z"
    }
   },
   "source": [
    "### GeologicalModel\n",
    "To create a `GeologicalModel` the origin (lower left) and max extent (upper right) of the model area need to be specified. In this example these are provided in the bb array."
   ]
  },
  {
   "cell_type": "code",
   "execution_count": null,
   "metadata": {
    "ExecuteTime": {
     "end_time": "2019-11-11T21:59:04.914496Z",
     "start_time": "2019-11-11T21:59:04.907959Z"
    }
   },
   "outputs": [],
   "source": [
    "model = GeologicalModel(bb[0,:],bb[1,:])"
   ]
  },
  {
   "cell_type": "markdown",
   "metadata": {},
   "source": [
    " A pandas dataframe with appropriate columns can be used to link the data to the geological model.\n",
    "* `X` is the x coordinate\n",
    "* `Y` is the y coordinate\n",
    "* `Z` is the z coordinate \n",
    "* `type` is a name to link the data to a model object \n",
    "* `val` is the value of the scalar field which represents the distance from a reference horizon. It is comparable to the relative thickness\n",
    "* `nx` is the x component of the normal vector to the surface gradient\n",
    "* `ny` is the y component of the normal vector to the surface gradient\n",
    "* `nz` is the z component of the normal vector to the surface gradeint\n",
    "* `strike` is the strike angle\n",
    "* `dip` is the dip angle\n",
    "\n",
    "Having a look at the data for this example by looking at the top of the dataframe and then using a 3D plot"
   ]
  },
  {
   "cell_type": "code",
   "execution_count": null,
   "metadata": {
    "ExecuteTime": {
     "end_time": "2019-11-11T21:59:06.114938Z",
     "start_time": "2019-11-11T21:59:06.094344Z"
    }
   },
   "outputs": [],
   "source": [
    "data"
   ]
  },
  {
   "cell_type": "code",
   "execution_count": null,
   "metadata": {
    "ExecuteTime": {
     "end_time": "2019-11-11T21:57:53.768079Z",
     "start_time": "2019-11-11T21:57:52.486452Z"
    }
   },
   "outputs": [],
   "source": [
    "viewer = LavaVuModelViewer()\n",
    "viewer.add_value_data(data[~np.isnan(data['val'])][['X','Y','Z']],data[~np.isnan(data['val'])]['val'],name='value points',cmap='rainbow')\n",
    "viewer.add_vector_data(data[~np.isnan(data['nx'])][['X','Y','Z']],\n",
    "                       data[~np.isnan(data['nx'])][['nx','ny','nz']],name='orientation points')\n",
    "\n",
    "viewer.interactive()"
   ]
  },
  {
   "cell_type": "code",
   "execution_count": null,
   "metadata": {},
   "outputs": [],
   "source": [
    "viewer_rotation = viewer.rotation"
   ]
  },
  {
   "cell_type": "code",
   "execution_count": null,
   "metadata": {},
   "outputs": [],
   "source": [
    "viewer_rotation"
   ]
  },
  {
   "cell_type": "markdown",
   "metadata": {},
   "source": [
    "The pandas dataframe can be linked to the `GeologicalModel` using `.set_model_data(dataframe`"
   ]
  },
  {
   "cell_type": "code",
   "execution_count": null,
   "metadata": {
    "ExecuteTime": {
     "end_time": "2019-11-11T22:00:57.055555Z",
     "start_time": "2019-11-11T21:59:25.442789Z"
    }
   },
   "outputs": [],
   "source": [
    "model.set_model_data(data)"
   ]
  },
  {
   "cell_type": "markdown",
   "metadata": {},
   "source": [
    "The `GeologicalModel` contains an ordered list of the different geological features within a model and how these features interact.\n",
    "This controls the topology of the different geological features in the model. \n",
    "Different geological features can be added to the geological model such as:\n",
    "* Foliations\n",
    "* Faults\n",
    "* Unconformities\n",
    "* Folded foliations\n",
    "* Structural Frames\n",
    "\n",
    "In this example we will only add a foliation using the function \n",
    "```Python\n",
    "model.create_and_add_foliation(name)\n",
    "```\n",
    "where name is the name in the `type` field, other parameters we specified are the: \n",
    "* `interpolatortype` - we can either use a PiecewiseLinearInterpolator `PLI` or a FiniteDifferenceInterpolator `FDI`\n",
    "* `nelements - int` is the how many elements are used to discretize the resulting solution\n",
    "* `buffer - float` buffer percentage around the model area \n",
    "* `solver` - the algorithm to solve the least squares problem e.g. `lu` for lower upper decomposition, `cg` for conjugate gradient, `pyamg` for an algorithmic multigrid solver\n",
    "* `damp - bool` - whether to add a small number to the diagonal of the interpolation matrix - this can help speed up the solver "
   ]
  },
  {
   "cell_type": "code",
   "execution_count": null,
   "metadata": {},
   "outputs": [],
   "source": [
    "strati = model.create_and_add_foliation(\"strati\")\n",
    "# ,\n",
    "#                                            interpolatortype=\"FDI\", # try changing this to 'PLI'\n",
    "#                                            nelements=1e4, # try changing between 1e3 and 5e4\n",
    "#                                            buffer=0.3,\n",
    "#                                            solver='lu',\n",
    "#                                            damp=True\n",
    "#                                           )"
   ]
  },
  {
   "cell_type": "markdown",
   "metadata": {},
   "source": [
    "### Visualising results\n",
    "The LavaVuModelViewer is an LoopStructural class that provides easy 3D plotting options for plotting data points and resulting implicit functions. \n",
    "\n",
    "The implicit function can be visualised by looking at isosurfaces of the scalar field.\n",
    "\n",
    "```Python\n",
    "viewer = LavaVuModelViewer()\n",
    "viewer.add_isosurface(feature,**kwargs)\n",
    "```\n",
    "Where optional kwargs can be:\n",
    "\n",
    "* `nslices` specifying the number of regularly spaced isosurfaces\n",
    "* `slices` a numpy array or list of isovalues to slice\n",
    "* `isovalue` an isovalue to slice\n",
    "* `paint_with` the geological feature to colour the surface with \n",
    "* `cmap` colour map for the colouring\n",
    "* `normals` to plot the normal vectors to the surface\n",
    "* `name` to give the surface\n",
    "* `colour` the colour of the surface\n",
    "* other kwargs for passing directly to lavavu\n",
    "\n",
    "Alternatively the scalarfields can be displayed on a rectangular cuboid.\n",
    "```Python\n",
    "viewer.add_scalar_field(geological_feature,**kwargs)\n",
    "```\n",
    "Other possible kwargs are:\n",
    "\n",
    "* `cmap` colour map for the property\n",
    "\n",
    "\n",
    "The input data for the model can be visualised by calling either:\n",
    "```Python\n",
    "viewer.add_data(feature,addgrad=True,addvalue=True,**kwargs) \n",
    "```\n",
    "Where both the point and vector data linked to the feature are added to the plot or by calling.\n",
    "```Python\n",
    "viewer.add_vector_data(position,vector,name,**kwargs)\n",
    "```\n",
    "Where `position` is an array or x,y,z coordinates and vector is a similarly sized array of `vectors`. These can be extracted from a geological feature by calling.\n",
    "`feature.support.interpolator.get_gradient_constraint()` which returns a Nx6 matrix of position and vectors.\n",
    "\n",
    "The value data can be plotted by calling.\n",
    "```Python\n",
    "viewer.add_value_data(position,value,name,**kwargs)\n",
    "```\n",
    "Where `position` is an array or x,y,z coordinates and value is a similarly sized vector of values. These can be extracted from a geological feature by calling.\n",
    "`feature.support.interpolator.get_value_constraint()` which returns a Nx4 matrix of position and values.\n",
    "\n",
    "Other possible options for plotting are to \n",
    "* plot point locations.\n",
    "```Python\n",
    "viewer.add_points(position, name, **kwargs)\n",
    "```\n",
    "* plot a vector field using the gradient of a geological feature\n",
    "```Python\n",
    "viewer.add_vector_field(feature, locations, **kwargs)\n",
    "```\n",
    "Where `locations` are an array of points to evaluate the gradient at, for example the barycentric coordinates. It is recommended to visualise the vectorfield at a lower resolution than the mesh otherwise it can be difficult to see the vectors. You can use numpy stepping along the array:\n",
    "`locations = mesh.barycentre[::20,:]` which will sample every 20th sample in the numpy array."
   ]
  },
  {
   "cell_type": "code",
   "execution_count": null,
   "metadata": {
    "ExecuteTime": {
     "end_time": "2019-11-08T09:49:32.560176Z",
     "start_time": "2019-11-08T09:48:00.893Z"
    }
   },
   "outputs": [],
   "source": [
    "viewer = LavaVuModelViewer(model,background=\"white\")\n",
    "viewer.nelements = 1e5\n",
    "# determine the number of unique surfaces in the model from \n",
    "# the input data and then calculate isosurfaces for this\n",
    "unique = np.unique(strati.interpolator.get_value_constraints()[:,3])\n",
    "viewer.add_isosurface(model.features[0], \n",
    "                       slices=unique,  \n",
    "                       cmap='prism',\n",
    "                      paint_with=model.features[0],\n",
    "                     )\n",
    "\n",
    "\n",
    "viewer.add_scalar_field(model.features[0],\n",
    "                     cmap='prism')\n",
    "\n",
    "# Add the data addgrad/addvalue arguments are optional\n",
    "viewer.add_data(model.features[0],addgrad=True,addvalue=True, cmap='prism')\n",
    "viewer.rotation = viewer_rotation#[-85.18760681152344, 42.93233871459961, 0.8641873002052307]\n",
    "viewer.interactive()# to add an interactive display\n"
   ]
  },
  {
   "cell_type": "code",
   "execution_count": null,
   "metadata": {},
   "outputs": [],
   "source": [
    "viewer.nsteps"
   ]
  },
  {
   "cell_type": "code",
   "execution_count": null,
   "metadata": {},
   "outputs": [],
   "source": [
    "viewer.nelements = 1e5"
   ]
  },
  {
   "cell_type": "code",
   "execution_count": null,
   "metadata": {},
   "outputs": [],
   "source": []
  }
 ],
 "metadata": {
  "kernelspec": {
   "display_name": "Python 3",
   "language": "python",
   "name": "python3"
  },
  "language_info": {
   "codemirror_mode": {
    "name": "ipython",
    "version": 3
   },
   "file_extension": ".py",
   "mimetype": "text/x-python",
   "name": "python",
   "nbconvert_exporter": "python",
   "pygments_lexer": "ipython3",
   "version": "3.7.9"
  },
  "varInspector": {
   "cols": {
    "lenName": 16,
    "lenType": 16,
    "lenVar": 40
   },
   "kernels_config": {
    "python": {
     "delete_cmd_postfix": "",
     "delete_cmd_prefix": "del ",
     "library": "var_list.py",
     "varRefreshCmd": "print(var_dic_list())"
    },
    "r": {
     "delete_cmd_postfix": ") ",
     "delete_cmd_prefix": "rm(",
     "library": "var_list.r",
     "varRefreshCmd": "cat(var_dic_list()) "
    }
   },
   "types_to_exclude": [
    "module",
    "function",
    "builtin_function_or_method",
    "instance",
    "_Feature"
   ],
   "window_display": false
  }
 },
 "nbformat": 4,
 "nbformat_minor": 4
}
