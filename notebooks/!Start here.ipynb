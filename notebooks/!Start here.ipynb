{
 "cells": [
  {
   "cell_type": "markdown",
   "metadata": {},
   "source": [
    "<img src=\"images/banner.png\" alt=\"Folded outcrop\" />"
   ]
  },
  {
   "cell_type": "markdown",
   "metadata": {},
   "source": [
    "# Loop Structural SGTSG workshop\n",
    "During this workshop you will use jupyter notebooks to build implicit geological models using LoopStructural, with examples  \n",
    "* The [first tutorial](Example1.ipynb) will cover interpolating a conformable stratigraphic horizon using LoopStructural in this tutorial you will learn how to:\n",
    "<img src=\"images/example1.jpg\" alt=\"Noddy Model\" style=\"width: 400px;\"/>\n",
    "    \n",
    "    * Create a geological model, which includes:\n",
    "        1. Presentation and visualization of the data\n",
    "        2. Addition of a geological feature, which in this case is the stratigraphy of the model.\n",
    "        2. Visualization of the scalar field.\n",
    "\n",
    "* The [second example](Example2.ipynb) introduces using structural frame (fold frame) for modelling folded surfaces and provides a comparison to using classical methods.\n",
    "<img src=\"images/example2.jpg\" alt=\"Noddy Model\" style=\"width: 400px;\"/>\n",
    "\n",
    "    * Test senstivity of classical methods to data density\n",
    "    * Use fold constraints to better constrain model\n",
    "    * Test sensitivity of fold constraints to fold axis\n",
    "    \n",
    "* The [third example](Example3.ipynb) uses the fold frame to model a type 3 interference pattern using a time aware approach for modelling each foliation field from structural data.\n",
    "<img src=\"images/refolded_folds.jpg\" alt=\"Noddy Model\" style=\"width: 400px;\"/>\n",
    "\n",
    "    * Comparison of fold constraints with clasical methods for polyfolded structure\n",
    "    * Use advanced LoopStructural API for building fold frame and fold constraints for polyfolded structure\n",
    "* The [fourth example](Example4.ipynb) a uses structural frames for modelling faults showing a simple example of a faulted intrusion.\n",
    "<img src=\"images/example4.jpg\" alt=\"Noddy Model\" style=\"width: 400px;\"/>\n",
    "    \n",
    "    * Build fault frame from structural observations\n",
    "    * Add fault to interpolated stratigraphic horizon\n",
    "    * Test varying fault displacements \n",
    "* The [fifth example](Example5.ipynb) uses the fault frame and fault kinematics to construct a model of a duplex system\n",
    "<img src=\"images/example6.jpg\" alt=\"Noddy Model\" style=\"width: 400px;\"/>\n",
    "    \n",
    "    * Build multiple fault frames\n",
    "    * Apply faults using time aware method to interpolated stratigraphic horizons\n",
    "    \n",
    "* The [sixth example](Example6.ipynb) combines fold and fault modelling to model a faulted type 1 intereference pattern\n",
    "<img src=\"images/example6.png\" alt=\"Noddy Model\" style=\"width: 400px;\"/>\n",
    "    \n",
    "    * Apply both folding and faulting\n",
    "    \n",
    "* The [seventh example](Example7.ipynb) uses map2loop to build a model\n",
    "<img src=\"images/m2l.png\" alt=\"Noddy Model\" style=\"width: 400px;\"/>\n",
    "   \n",
    "    * Build fault network with varying displacements\n",
    "    * Use map2loop output files\n",
    "    * Building complex 3D model"
   ]
  },
  {
   "cell_type": "markdown",
   "metadata": {},
   "source": [
    "## Using LoopStructural\n",
    "LoopStructural will be released as an opensource python library before March 2020. \n",
    "\n",
    "**Sign up to our mailing list [here](https://docs.google.com/forms/d/e/1FAIpQLSdgcIlQAHu6zMPEZADsbh4gMwENGwiDgswa7ZQi0ei8rFcUmQ/viewform)** to recieve updates about the project and any public releases.\n",
    "\n",
    "Follow us on github https://github.com/Loop3D\n",
    "\n",
    "**Looking for beta testers**\n",
    "If you have some background in python programming or would like to be involved in an early release testing please email lachlan.grose@monash.edu "
   ]
  },
  {
   "cell_type": "markdown",
   "metadata": {},
   "source": [
    "<img src=\"images/loop-struct-foot.png\" alt=\"Folded outcrop\" />"
   ]
  }
 ],
 "metadata": {
  "kernelspec": {
   "display_name": "loop",
   "language": "python",
   "name": "loop"
  },
  "language_info": {
   "codemirror_mode": {
    "name": "ipython",
    "version": 3
   },
   "file_extension": ".py",
   "mimetype": "text/x-python",
   "name": "python",
   "nbconvert_exporter": "python",
   "pygments_lexer": "ipython3",
   "version": "3.7.4"
  }
 },
 "nbformat": 4,
 "nbformat_minor": 2
}
